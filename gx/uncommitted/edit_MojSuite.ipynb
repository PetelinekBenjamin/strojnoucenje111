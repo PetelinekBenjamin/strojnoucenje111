{
 "cells": [
  {
   "cell_type": "markdown",
   "id": "05ec9fcd",
   "metadata": {},
   "source": [
    "# Initialize a new Expectation Suite by profiling a batch of your data.\n",
    "This process helps you avoid writing lots of boilerplate when authoring suites by allowing you to select columns and other factors that you care about and letting a profiler write some candidate expectations for you to adjust.\n",
    "\n",
    "**Expectation Suite Name**: `MojSuite`\n"
   ]
  },
  {
   "cell_type": "code",
   "execution_count": 2,
   "id": "0c27e36e",
   "metadata": {},
   "outputs": [
    {
     "name": "stdout",
     "output_type": "stream",
     "text": [
      "2024-05-28T09:48:31+0200 - INFO - Great Expectations logging enabled at 20 level by JupyterUX module.\n",
      "2024-05-28T09:48:31+0200 - INFO - FileDataContext loading fluent config\n",
      "2024-05-28T09:48:31+0200 - INFO - Loading 'datasources' ->\n",
      "[]\n"
     ]
    },
    {
     "data": {
      "application/vnd.jupyter.widget-view+json": {
       "model_id": "58a3916c47cd4fe08710b339aa553f44",
       "version_major": 2,
       "version_minor": 0
      },
      "text/plain": [
       "Calculating Metrics:   0%|          | 0/2 [00:00<?, ?it/s]"
      ]
     },
     "metadata": {},
     "output_type": "display_data"
    },
    {
     "name": "stdout",
     "output_type": "stream",
     "text": [
      "Columns: \"Cas\", \"Temperatura (2m)\", \"Relativna vlaga (2m)\", \"Temperatura rosisca (2m)\", \"Obcutna temperatura\", \"Verjetnost padavin\", \"Stevilo nesrec\", \"Average speed\", \"FRC\", \"Free flow speed\", \"Current travel time\", \"Free flow travel time\", \"Confidence\", \"Road closure\".\n"
     ]
    },
    {
     "data": {
      "application/vnd.jupyter.widget-view+json": {
       "model_id": "b984019a95ba4c0fa4be3a47114062e2",
       "version_major": 2,
       "version_minor": 0
      },
      "text/plain": [
       "Calculating Metrics:   0%|          | 0/1 [00:00<?, ?it/s]"
      ]
     },
     "metadata": {},
     "output_type": "display_data"
    },
    {
     "data": {
      "text/html": [
       "<div>\n",
       "<style scoped>\n",
       "    .dataframe tbody tr th:only-of-type {\n",
       "        vertical-align: middle;\n",
       "    }\n",
       "\n",
       "    .dataframe tbody tr th {\n",
       "        vertical-align: top;\n",
       "    }\n",
       "\n",
       "    .dataframe thead th {\n",
       "        text-align: right;\n",
       "    }\n",
       "</style>\n",
       "<table border=\"1\" class=\"dataframe\">\n",
       "  <thead>\n",
       "    <tr style=\"text-align: right;\">\n",
       "      <th></th>\n",
       "      <th>Cas</th>\n",
       "      <th>Temperatura (2m)</th>\n",
       "      <th>Relativna vlaga (2m)</th>\n",
       "      <th>Temperatura rosisca (2m)</th>\n",
       "      <th>Obcutna temperatura</th>\n",
       "      <th>Verjetnost padavin</th>\n",
       "      <th>Stevilo nesrec</th>\n",
       "      <th>Average speed</th>\n",
       "      <th>FRC</th>\n",
       "      <th>Free flow speed</th>\n",
       "      <th>Current travel time</th>\n",
       "      <th>Free flow travel time</th>\n",
       "      <th>Confidence</th>\n",
       "      <th>Road closure</th>\n",
       "    </tr>\n",
       "  </thead>\n",
       "  <tbody>\n",
       "    <tr>\n",
       "      <th>0</th>\n",
       "      <td>2024-05-27T16:00</td>\n",
       "      <td>18.4</td>\n",
       "      <td>100</td>\n",
       "      <td>18.4</td>\n",
       "      <td>18.5</td>\n",
       "      <td>45</td>\n",
       "      <td>3</td>\n",
       "      <td>12</td>\n",
       "      <td>FRC3</td>\n",
       "      <td>21</td>\n",
       "      <td>37</td>\n",
       "      <td>21</td>\n",
       "      <td>1</td>\n",
       "      <td>False</td>\n",
       "    </tr>\n",
       "    <tr>\n",
       "      <th>1</th>\n",
       "      <td>2024-05-27T16:00</td>\n",
       "      <td>18.4</td>\n",
       "      <td>100</td>\n",
       "      <td>18.4</td>\n",
       "      <td>18.5</td>\n",
       "      <td>45</td>\n",
       "      <td>3</td>\n",
       "      <td>12</td>\n",
       "      <td>FRC3</td>\n",
       "      <td>21</td>\n",
       "      <td>37</td>\n",
       "      <td>21</td>\n",
       "      <td>1</td>\n",
       "      <td>False</td>\n",
       "    </tr>\n",
       "    <tr>\n",
       "      <th>2</th>\n",
       "      <td>2024-05-27T17:00</td>\n",
       "      <td>18.3</td>\n",
       "      <td>100</td>\n",
       "      <td>18.3</td>\n",
       "      <td>18.7</td>\n",
       "      <td>52</td>\n",
       "      <td>3</td>\n",
       "      <td>13</td>\n",
       "      <td>FRC3</td>\n",
       "      <td>20</td>\n",
       "      <td>34</td>\n",
       "      <td>22</td>\n",
       "      <td>1</td>\n",
       "      <td>False</td>\n",
       "    </tr>\n",
       "    <tr>\n",
       "      <th>3</th>\n",
       "      <td>2024-05-27T19:00</td>\n",
       "      <td>23.5</td>\n",
       "      <td>74</td>\n",
       "      <td>18.6</td>\n",
       "      <td>23.9</td>\n",
       "      <td>74</td>\n",
       "      <td>5</td>\n",
       "      <td>21</td>\n",
       "      <td>FRC3</td>\n",
       "      <td>21</td>\n",
       "      <td>21</td>\n",
       "      <td>21</td>\n",
       "      <td>1</td>\n",
       "      <td>False</td>\n",
       "    </tr>\n",
       "    <tr>\n",
       "      <th>4</th>\n",
       "      <td>2024-05-28T09:00</td>\n",
       "      <td>19.0</td>\n",
       "      <td>94</td>\n",
       "      <td>18.0</td>\n",
       "      <td>20.5</td>\n",
       "      <td>13</td>\n",
       "      <td>3</td>\n",
       "      <td>21</td>\n",
       "      <td>FRC3</td>\n",
       "      <td>21</td>\n",
       "      <td>21</td>\n",
       "      <td>21</td>\n",
       "      <td>1</td>\n",
       "      <td>False</td>\n",
       "    </tr>\n",
       "  </tbody>\n",
       "</table>\n",
       "</div>"
      ],
      "text/plain": [
       "                Cas  Temperatura (2m)  Relativna vlaga (2m)  \\\n",
       "0  2024-05-27T16:00              18.4                   100   \n",
       "1  2024-05-27T16:00              18.4                   100   \n",
       "2  2024-05-27T17:00              18.3                   100   \n",
       "3  2024-05-27T19:00              23.5                    74   \n",
       "4  2024-05-28T09:00              19.0                    94   \n",
       "\n",
       "   Temperatura rosisca (2m)  Obcutna temperatura  Verjetnost padavin  \\\n",
       "0                      18.4                 18.5                  45   \n",
       "1                      18.4                 18.5                  45   \n",
       "2                      18.3                 18.7                  52   \n",
       "3                      18.6                 23.9                  74   \n",
       "4                      18.0                 20.5                  13   \n",
       "\n",
       "   Stevilo nesrec  Average speed   FRC  Free flow speed  Current travel time  \\\n",
       "0               3             12  FRC3               21                   37   \n",
       "1               3             12  FRC3               21                   37   \n",
       "2               3             13  FRC3               20                   34   \n",
       "3               5             21  FRC3               21                   21   \n",
       "4               3             21  FRC3               21                   21   \n",
       "\n",
       "   Free flow travel time  Confidence  Road closure  \n",
       "0                     21           1         False  \n",
       "1                     21           1         False  \n",
       "2                     22           1         False  \n",
       "3                     21           1         False  \n",
       "4                     21           1         False  "
      ]
     },
     "execution_count": 2,
     "metadata": {},
     "output_type": "execute_result"
    }
   ],
   "source": [
    "import datetime\n",
    "\n",
    "import pandas as pd\n",
    "\n",
    "import great_expectations as gx\n",
    "import great_expectations.jupyter_ux\n",
    "from great_expectations.core.batch import BatchRequest\n",
    "from great_expectations.checkpoint import SimpleCheckpoint\n",
    "from great_expectations.exceptions import DataContextError\n",
    "\n",
    "context = gx.get_context()\n",
    "\n",
    "batch_request = {\n",
    "    \"datasource_name\": \"my_datasource\",\n",
    "    \"data_connector_name\": \"default_inferred_data_connector_name\",\n",
    "    \"data_asset_name\": \"reference_data.csv\",\n",
    "    \"limit\": 1000,\n",
    "}\n",
    "\n",
    "expectation_suite_name = \"MojSuite\"\n",
    "\n",
    "validator = context.get_validator(\n",
    "    batch_request=BatchRequest(**batch_request),\n",
    "    expectation_suite_name=expectation_suite_name,\n",
    ")\n",
    "column_names = [f'\"{column_name}\"' for column_name in validator.columns()]\n",
    "print(f\"Columns: {', '.join(column_names)}.\")\n",
    "validator.head(n_rows=5, fetch_all=False)"
   ]
  },
  {
   "cell_type": "markdown",
   "id": "ca510657",
   "metadata": {},
   "source": [
    "# Select columns\n",
    "\n",
    "Select the columns on which you would like to set expectations and those which you would like to ignore.\n",
    "\n",
    "Great Expectations will choose which expectations might make sense for a column based on the **data type** and **cardinality** of the data in each selected column.\n",
    "\n",
    "Simply comment out columns that are important and should be included. You can select multiple lines and use a Jupyter\n",
    "keyboard shortcut to toggle each line: **Linux/Windows**:\n",
    "`Ctrl-/`, **macOS**: `Cmd-/`\n",
    "\n",
    "Other directives are shown (commented out) as examples of the depth of control possible (see documentation for details).\n"
   ]
  },
  {
   "cell_type": "code",
   "execution_count": 3,
   "id": "d07099e6",
   "metadata": {},
   "outputs": [],
   "source": [
    "exclude_column_names = [\n",
    "    \"Cas\",\n",
    "    #\"Temperatura (2m)\",\n",
    "    #\"Relativna vlaga (2m)\",\n",
    "    #\"Temperatura rosisca (2m)\",\n",
    "    \"Obcutna temperatura\",\n",
    "    \"Verjetnost padavin\",\n",
    "    \"Stevilo nesrec\",\n",
    "    #\"Average speed\",\n",
    "    \"FRC\",\n",
    "    #\"Free flow speed\",\n",
    "    \"Current travel time\",\n",
    "    \"Free flow travel time\",\n",
    "    \"Confidence\",\n",
    "    \"Road closure\",\n",
    "]"
   ]
  },
  {
   "cell_type": "markdown",
   "id": "7d5a4bd5",
   "metadata": {},
   "source": [
    "# Run the OnboardingDataAssistant\n",
    "\n",
    "The suites generated here are **not meant to be production suites** -- they are **a starting point to build upon**.\n",
    "\n",
    "**To get to a production-grade suite, you will definitely want to [edit this\n",
    "suite](https://docs.greatexpectations.io/docs/guides/expectations/create_expectations_overview#editing-a-saved-expectation-suite)\n",
    "after this initial step gets you started on the path towards what you want.**\n",
    "\n",
    "This is highly configurable depending on your goals.\n",
    "You can ignore columns, specify cardinality of categorical columns, configure semantic types for columns, even adjust thresholds and/or different estimator parameters, etc.\n",
    "You can find more information about OnboardingDataAssistant and other DataAssistant components (please see documentation for the complete set of DataAssistant controls) [how to choose and control the behavior of the DataAssistant tailored to your goals](https://docs.greatexpectations.io/docs/guides/expectations/data_assistants/how_to_create_an_expectation_suite_with_the_onboarding_data_assistant).\n",
    "\n",
    "Performance considerations:\n",
    "- Latency: We optimized for an explicit \"question/answer\" design, which means we issue **lots** of queries. Connection latency will impact performance.\n",
    "- Data Volume: Small samples of data will often give you a great starting point for understanding the dataset. Consider configuring a sampled asset and profiling a small number of batches.\n",
    "    "
   ]
  },
  {
   "cell_type": "code",
   "execution_count": 4,
   "id": "1c152da8",
   "metadata": {},
   "outputs": [
    {
     "name": "stdout",
     "output_type": "stream",
     "text": [
      "\n"
     ]
    },
    {
     "data": {
      "application/vnd.jupyter.widget-view+json": {
       "model_id": "9034a01c8a404b13b9c77dcb42259d2a",
       "version_major": 2,
       "version_minor": 0
      },
      "text/plain": [
       "Generating Expectations:   0%|          | 0/8 [00:00<?, ?it/s]"
      ]
     },
     "metadata": {},
     "output_type": "display_data"
    },
    {
     "data": {
      "application/vnd.jupyter.widget-view+json": {
       "model_id": "",
       "version_major": 2,
       "version_minor": 0
      },
      "text/plain": [
       "Profiling Dataset:         0%|          | 0/1 [00:00<?, ?it/s]"
      ]
     },
     "metadata": {},
     "output_type": "display_data"
    },
    {
     "data": {
      "application/vnd.jupyter.widget-view+json": {
       "model_id": "51523f6ba0e74bc7a9b28726de80c01d",
       "version_major": 2,
       "version_minor": 0
      },
      "text/plain": [
       "Calculating Metrics:   0%|          | 0/1 [00:00<?, ?it/s]"
      ]
     },
     "metadata": {},
     "output_type": "display_data"
    },
    {
     "data": {
      "application/vnd.jupyter.widget-view+json": {
       "model_id": "f27adeef7ea643a4a30cf7e461140ece",
       "version_major": 2,
       "version_minor": 0
      },
      "text/plain": [
       "Calculating Metrics:   0%|          | 0/2 [00:00<?, ?it/s]"
      ]
     },
     "metadata": {},
     "output_type": "display_data"
    },
    {
     "data": {
      "application/vnd.jupyter.widget-view+json": {
       "model_id": "42a8f77e612846249f3313d68084b15f",
       "version_major": 2,
       "version_minor": 0
      },
      "text/plain": [
       "Calculating Metrics:   0%|          | 0/2 [00:00<?, ?it/s]"
      ]
     },
     "metadata": {},
     "output_type": "display_data"
    },
    {
     "data": {
      "application/vnd.jupyter.widget-view+json": {
       "model_id": "de4dca9add57457b9f8734a94cd67f4b",
       "version_major": 2,
       "version_minor": 0
      },
      "text/plain": [
       "Calculating Metrics:   0%|          | 0/2 [00:00<?, ?it/s]"
      ]
     },
     "metadata": {},
     "output_type": "display_data"
    },
    {
     "data": {
      "application/vnd.jupyter.widget-view+json": {
       "model_id": "699153d43a4c48ebb2d606b5ed3afd64",
       "version_major": 2,
       "version_minor": 0
      },
      "text/plain": [
       "Calculating Metrics:   0%|          | 0/1 [00:00<?, ?it/s]"
      ]
     },
     "metadata": {},
     "output_type": "display_data"
    },
    {
     "data": {
      "application/vnd.jupyter.widget-view+json": {
       "model_id": "d3f8a61ddfab4c779786a6c566928291",
       "version_major": 2,
       "version_minor": 0
      },
      "text/plain": [
       "Calculating Metrics:   0%|          | 0/1 [00:00<?, ?it/s]"
      ]
     },
     "metadata": {},
     "output_type": "display_data"
    },
    {
     "data": {
      "application/vnd.jupyter.widget-view+json": {
       "model_id": "6d34bccb054044a295014234ecee65ff",
       "version_major": 2,
       "version_minor": 0
      },
      "text/plain": [
       "Calculating Metrics:   0%|          | 0/13 [00:00<?, ?it/s]"
      ]
     },
     "metadata": {},
     "output_type": "display_data"
    },
    {
     "data": {
      "application/vnd.jupyter.widget-view+json": {
       "model_id": "",
       "version_major": 2,
       "version_minor": 0
      },
      "text/plain": [
       "Profiling Dataset:         0%|          | 0/0 [00:00<?, ?it/s]"
      ]
     },
     "metadata": {},
     "output_type": "display_data"
    },
    {
     "data": {
      "application/vnd.jupyter.widget-view+json": {
       "model_id": "ff93957ea2544951b72a7cf2d4208775",
       "version_major": 2,
       "version_minor": 0
      },
      "text/plain": [
       "Calculating Metrics:   0%|          | 0/2 [00:00<?, ?it/s]"
      ]
     },
     "metadata": {},
     "output_type": "display_data"
    },
    {
     "data": {
      "application/vnd.jupyter.widget-view+json": {
       "model_id": "db2f42c00fbb4bdfafb235df30993714",
       "version_major": 2,
       "version_minor": 0
      },
      "text/plain": [
       "Calculating Metrics:   0%|          | 0/1 [00:00<?, ?it/s]"
      ]
     },
     "metadata": {},
     "output_type": "display_data"
    },
    {
     "data": {
      "application/vnd.jupyter.widget-view+json": {
       "model_id": "43767aef3c5b492ebc8c1c20891d2845",
       "version_major": 2,
       "version_minor": 0
      },
      "text/plain": [
       "Calculating Metrics:   0%|          | 0/1 [00:00<?, ?it/s]"
      ]
     },
     "metadata": {},
     "output_type": "display_data"
    },
    {
     "data": {
      "application/vnd.jupyter.widget-view+json": {
       "model_id": "73a7363a016949528733407e69e0be64",
       "version_major": 2,
       "version_minor": 0
      },
      "text/plain": [
       "Calculating Metrics:   0%|          | 0/13 [00:00<?, ?it/s]"
      ]
     },
     "metadata": {},
     "output_type": "display_data"
    },
    {
     "data": {
      "application/vnd.jupyter.widget-view+json": {
       "model_id": "",
       "version_major": 2,
       "version_minor": 0
      },
      "text/plain": [
       "Profiling Dataset:         0%|          | 0/0 [00:00<?, ?it/s]"
      ]
     },
     "metadata": {},
     "output_type": "display_data"
    },
    {
     "data": {
      "application/vnd.jupyter.widget-view+json": {
       "model_id": "cffa16c1b172420f88646327cc24ece9",
       "version_major": 2,
       "version_minor": 0
      },
      "text/plain": [
       "Calculating Metrics:   0%|          | 0/2 [00:00<?, ?it/s]"
      ]
     },
     "metadata": {},
     "output_type": "display_data"
    },
    {
     "data": {
      "application/vnd.jupyter.widget-view+json": {
       "model_id": "c6d189d643e54c53a6066c201f4683ac",
       "version_major": 2,
       "version_minor": 0
      },
      "text/plain": [
       "Calculating Metrics:   0%|          | 0/1 [00:00<?, ?it/s]"
      ]
     },
     "metadata": {},
     "output_type": "display_data"
    },
    {
     "data": {
      "application/vnd.jupyter.widget-view+json": {
       "model_id": "94e33d05d1c24f71b6cad0e5fd316626",
       "version_major": 2,
       "version_minor": 0
      },
      "text/plain": [
       "Calculating Metrics:   0%|          | 0/1 [00:00<?, ?it/s]"
      ]
     },
     "metadata": {},
     "output_type": "display_data"
    },
    {
     "data": {
      "application/vnd.jupyter.widget-view+json": {
       "model_id": "1edab5c934e14187b5581e80325714e1",
       "version_major": 2,
       "version_minor": 0
      },
      "text/plain": [
       "Calculating Metrics:   0%|          | 0/13 [00:00<?, ?it/s]"
      ]
     },
     "metadata": {},
     "output_type": "display_data"
    },
    {
     "data": {
      "application/vnd.jupyter.widget-view+json": {
       "model_id": "",
       "version_major": 2,
       "version_minor": 0
      },
      "text/plain": [
       "Profiling Dataset:         0%|          | 0/5 [00:00<?, ?it/s]"
      ]
     },
     "metadata": {},
     "output_type": "display_data"
    },
    {
     "data": {
      "application/vnd.jupyter.widget-view+json": {
       "model_id": "6db97d67012b4f8ea328faafa4c0a2b1",
       "version_major": 2,
       "version_minor": 0
      },
      "text/plain": [
       "Calculating Metrics:   0%|          | 0/5 [00:00<?, ?it/s]"
      ]
     },
     "metadata": {},
     "output_type": "display_data"
    },
    {
     "data": {
      "application/vnd.jupyter.widget-view+json": {
       "model_id": "919355eb933349c3b8dcf75f28536dd4",
       "version_major": 2,
       "version_minor": 0
      },
      "text/plain": [
       "Calculating Metrics:   0%|          | 0/1 [00:00<?, ?it/s]"
      ]
     },
     "metadata": {},
     "output_type": "display_data"
    },
    {
     "data": {
      "application/vnd.jupyter.widget-view+json": {
       "model_id": "4aa2d3dd75b342e1b273f8694150daab",
       "version_major": 2,
       "version_minor": 0
      },
      "text/plain": [
       "Calculating Metrics:   0%|          | 0/5 [00:00<?, ?it/s]"
      ]
     },
     "metadata": {},
     "output_type": "display_data"
    },
    {
     "data": {
      "application/vnd.jupyter.widget-view+json": {
       "model_id": "68391dfcf5d94d17930a83190b21db0f",
       "version_major": 2,
       "version_minor": 0
      },
      "text/plain": [
       "Calculating Metrics:   0%|          | 0/5 [00:00<?, ?it/s]"
      ]
     },
     "metadata": {},
     "output_type": "display_data"
    },
    {
     "data": {
      "application/vnd.jupyter.widget-view+json": {
       "model_id": "0d34a6b802d04f4d9bc058839b4a685a",
       "version_major": 2,
       "version_minor": 0
      },
      "text/plain": [
       "Calculating Metrics:   0%|          | 0/5 [00:00<?, ?it/s]"
      ]
     },
     "metadata": {},
     "output_type": "display_data"
    },
    {
     "data": {
      "application/vnd.jupyter.widget-view+json": {
       "model_id": "d1ab4347319047248d08f0de98287643",
       "version_major": 2,
       "version_minor": 0
      },
      "text/plain": [
       "Calculating Metrics:   0%|          | 0/1 [00:00<?, ?it/s]"
      ]
     },
     "metadata": {},
     "output_type": "display_data"
    },
    {
     "data": {
      "application/vnd.jupyter.widget-view+json": {
       "model_id": "71b35e17d4a242508cacb7438af4a131",
       "version_major": 2,
       "version_minor": 0
      },
      "text/plain": [
       "Calculating Metrics:   0%|          | 0/5 [00:00<?, ?it/s]"
      ]
     },
     "metadata": {},
     "output_type": "display_data"
    },
    {
     "data": {
      "application/vnd.jupyter.widget-view+json": {
       "model_id": "c847cac04f744017bf33dd1797c47960",
       "version_major": 2,
       "version_minor": 0
      },
      "text/plain": [
       "Calculating Metrics:   0%|          | 0/5 [00:00<?, ?it/s]"
      ]
     },
     "metadata": {},
     "output_type": "display_data"
    },
    {
     "data": {
      "application/vnd.jupyter.widget-view+json": {
       "model_id": "92ba618c97de4f1c9a0c6f0016904304",
       "version_major": 2,
       "version_minor": 0
      },
      "text/plain": [
       "Calculating Metrics:   0%|          | 0/5 [00:00<?, ?it/s]"
      ]
     },
     "metadata": {},
     "output_type": "display_data"
    },
    {
     "data": {
      "application/vnd.jupyter.widget-view+json": {
       "model_id": "b45c5fc996704e5aa13a38c05448db56",
       "version_major": 2,
       "version_minor": 0
      },
      "text/plain": [
       "Calculating Metrics:   0%|          | 0/1 [00:00<?, ?it/s]"
      ]
     },
     "metadata": {},
     "output_type": "display_data"
    },
    {
     "data": {
      "application/vnd.jupyter.widget-view+json": {
       "model_id": "e664dd80ccaf4e93bb0cef58236c55b6",
       "version_major": 2,
       "version_minor": 0
      },
      "text/plain": [
       "Calculating Metrics:   0%|          | 0/5 [00:00<?, ?it/s]"
      ]
     },
     "metadata": {},
     "output_type": "display_data"
    },
    {
     "data": {
      "application/vnd.jupyter.widget-view+json": {
       "model_id": "99326df9e8754d4fb8feaeb67e227a00",
       "version_major": 2,
       "version_minor": 0
      },
      "text/plain": [
       "Calculating Metrics:   0%|          | 0/5 [00:00<?, ?it/s]"
      ]
     },
     "metadata": {},
     "output_type": "display_data"
    },
    {
     "data": {
      "application/vnd.jupyter.widget-view+json": {
       "model_id": "5363ac0b81534d3c8be5c028768186bf",
       "version_major": 2,
       "version_minor": 0
      },
      "text/plain": [
       "Calculating Metrics:   0%|          | 0/5 [00:00<?, ?it/s]"
      ]
     },
     "metadata": {},
     "output_type": "display_data"
    },
    {
     "data": {
      "application/vnd.jupyter.widget-view+json": {
       "model_id": "2129f18e260744b1b675b822df9239c2",
       "version_major": 2,
       "version_minor": 0
      },
      "text/plain": [
       "Calculating Metrics:   0%|          | 0/1 [00:00<?, ?it/s]"
      ]
     },
     "metadata": {},
     "output_type": "display_data"
    },
    {
     "data": {
      "application/vnd.jupyter.widget-view+json": {
       "model_id": "53fbe574eea84f0f9e3002b4a8fa6134",
       "version_major": 2,
       "version_minor": 0
      },
      "text/plain": [
       "Calculating Metrics:   0%|          | 0/5 [00:00<?, ?it/s]"
      ]
     },
     "metadata": {},
     "output_type": "display_data"
    },
    {
     "data": {
      "application/vnd.jupyter.widget-view+json": {
       "model_id": "4256f1974672469f830023b8a0349c32",
       "version_major": 2,
       "version_minor": 0
      },
      "text/plain": [
       "Calculating Metrics:   0%|          | 0/5 [00:00<?, ?it/s]"
      ]
     },
     "metadata": {},
     "output_type": "display_data"
    },
    {
     "data": {
      "application/vnd.jupyter.widget-view+json": {
       "model_id": "aa7cff1c2bd746c3bbcb2e2754358ba6",
       "version_major": 2,
       "version_minor": 0
      },
      "text/plain": [
       "Calculating Metrics:   0%|          | 0/5 [00:00<?, ?it/s]"
      ]
     },
     "metadata": {},
     "output_type": "display_data"
    },
    {
     "data": {
      "application/vnd.jupyter.widget-view+json": {
       "model_id": "357ca4052f86440694f1fe91149b9f93",
       "version_major": 2,
       "version_minor": 0
      },
      "text/plain": [
       "Calculating Metrics:   0%|          | 0/1 [00:00<?, ?it/s]"
      ]
     },
     "metadata": {},
     "output_type": "display_data"
    },
    {
     "data": {
      "application/vnd.jupyter.widget-view+json": {
       "model_id": "7749b73e826c4751b0c08b9f89776770",
       "version_major": 2,
       "version_minor": 0
      },
      "text/plain": [
       "Calculating Metrics:   0%|          | 0/5 [00:00<?, ?it/s]"
      ]
     },
     "metadata": {},
     "output_type": "display_data"
    },
    {
     "data": {
      "application/vnd.jupyter.widget-view+json": {
       "model_id": "92ad986967354b29acc2350954df6b79",
       "version_major": 2,
       "version_minor": 0
      },
      "text/plain": [
       "Calculating Metrics:   0%|          | 0/5 [00:00<?, ?it/s]"
      ]
     },
     "metadata": {},
     "output_type": "display_data"
    },
    {
     "data": {
      "application/vnd.jupyter.widget-view+json": {
       "model_id": "c56983b7b11248d48f276ced17a2fabe",
       "version_major": 2,
       "version_minor": 0
      },
      "text/plain": [
       "Calculating Metrics:   0%|          | 0/2 [00:00<?, ?it/s]"
      ]
     },
     "metadata": {},
     "output_type": "display_data"
    },
    {
     "data": {
      "application/vnd.jupyter.widget-view+json": {
       "model_id": "987b64c4fe9d4914a83c750ffeb15d49",
       "version_major": 2,
       "version_minor": 0
      },
      "text/plain": [
       "Calculating Metrics:   0%|          | 0/1 [00:00<?, ?it/s]"
      ]
     },
     "metadata": {},
     "output_type": "display_data"
    },
    {
     "data": {
      "application/vnd.jupyter.widget-view+json": {
       "model_id": "",
       "version_major": 2,
       "version_minor": 0
      },
      "text/plain": [
       "Profiling Dataset:         0%|          | 0/5 [00:00<?, ?it/s]"
      ]
     },
     "metadata": {},
     "output_type": "display_data"
    },
    {
     "data": {
      "application/vnd.jupyter.widget-view+json": {
       "model_id": "85af8ff11d854248aef6da1c8df1fbdb",
       "version_major": 2,
       "version_minor": 0
      },
      "text/plain": [
       "Calculating Metrics:   0%|          | 0/6 [00:00<?, ?it/s]"
      ]
     },
     "metadata": {},
     "output_type": "display_data"
    },
    {
     "data": {
      "application/vnd.jupyter.widget-view+json": {
       "model_id": "8de9c4e2dc72401c93709a14d16c31dd",
       "version_major": 2,
       "version_minor": 0
      },
      "text/plain": [
       "Calculating Metrics:   0%|          | 0/6 [00:00<?, ?it/s]"
      ]
     },
     "metadata": {},
     "output_type": "display_data"
    },
    {
     "data": {
      "application/vnd.jupyter.widget-view+json": {
       "model_id": "d159098f03f84ea391a739b3a6cf3d7e",
       "version_major": 2,
       "version_minor": 0
      },
      "text/plain": [
       "Calculating Metrics:   0%|          | 0/4 [00:00<?, ?it/s]"
      ]
     },
     "metadata": {},
     "output_type": "display_data"
    },
    {
     "data": {
      "application/vnd.jupyter.widget-view+json": {
       "model_id": "a7c871f6c8724746974d66b4efb1dc0e",
       "version_major": 2,
       "version_minor": 0
      },
      "text/plain": [
       "Calculating Metrics:   0%|          | 0/4 [00:00<?, ?it/s]"
      ]
     },
     "metadata": {},
     "output_type": "display_data"
    },
    {
     "data": {
      "application/vnd.jupyter.widget-view+json": {
       "model_id": "18ba6ade30e0405abcc95ead4bbbe07f",
       "version_major": 2,
       "version_minor": 0
      },
      "text/plain": [
       "Calculating Metrics:   0%|          | 0/4 [00:00<?, ?it/s]"
      ]
     },
     "metadata": {},
     "output_type": "display_data"
    },
    {
     "data": {
      "application/vnd.jupyter.widget-view+json": {
       "model_id": "fe649bb2475c4ea4b3fd890a494e56c0",
       "version_major": 2,
       "version_minor": 0
      },
      "text/plain": [
       "Calculating Metrics:   0%|          | 0/4 [00:00<?, ?it/s]"
      ]
     },
     "metadata": {},
     "output_type": "display_data"
    },
    {
     "data": {
      "application/vnd.jupyter.widget-view+json": {
       "model_id": "7a2a0f38f0e54f7cb08f264df759e029",
       "version_major": 2,
       "version_minor": 0
      },
      "text/plain": [
       "Calculating Metrics:   0%|          | 0/4 [00:00<?, ?it/s]"
      ]
     },
     "metadata": {},
     "output_type": "display_data"
    },
    {
     "data": {
      "application/vnd.jupyter.widget-view+json": {
       "model_id": "0a9196ac8c9c4505a6f70a9ac7b92d30",
       "version_major": 2,
       "version_minor": 0
      },
      "text/plain": [
       "Calculating Metrics:   0%|          | 0/4 [00:00<?, ?it/s]"
      ]
     },
     "metadata": {},
     "output_type": "display_data"
    },
    {
     "data": {
      "application/vnd.jupyter.widget-view+json": {
       "model_id": "a857e4d629054c6a824d3e9e217de0a1",
       "version_major": 2,
       "version_minor": 0
      },
      "text/plain": [
       "Calculating Metrics:   0%|          | 0/4 [00:00<?, ?it/s]"
      ]
     },
     "metadata": {},
     "output_type": "display_data"
    },
    {
     "data": {
      "application/vnd.jupyter.widget-view+json": {
       "model_id": "412680dc00444cd6bc20293fb0d5ef04",
       "version_major": 2,
       "version_minor": 0
      },
      "text/plain": [
       "Calculating Metrics:   0%|          | 0/6 [00:00<?, ?it/s]"
      ]
     },
     "metadata": {},
     "output_type": "display_data"
    },
    {
     "data": {
      "application/vnd.jupyter.widget-view+json": {
       "model_id": "e7da5e36725445c3b315a63949467235",
       "version_major": 2,
       "version_minor": 0
      },
      "text/plain": [
       "Calculating Metrics:   0%|          | 0/6 [00:00<?, ?it/s]"
      ]
     },
     "metadata": {},
     "output_type": "display_data"
    },
    {
     "data": {
      "application/vnd.jupyter.widget-view+json": {
       "model_id": "dd98a35e45f844cca43d2798dba9247d",
       "version_major": 2,
       "version_minor": 0
      },
      "text/plain": [
       "Calculating Metrics:   0%|          | 0/4 [00:00<?, ?it/s]"
      ]
     },
     "metadata": {},
     "output_type": "display_data"
    },
    {
     "data": {
      "application/vnd.jupyter.widget-view+json": {
       "model_id": "6f2ea0d88a75478289d00f4788c762ed",
       "version_major": 2,
       "version_minor": 0
      },
      "text/plain": [
       "Calculating Metrics:   0%|          | 0/4 [00:00<?, ?it/s]"
      ]
     },
     "metadata": {},
     "output_type": "display_data"
    },
    {
     "data": {
      "application/vnd.jupyter.widget-view+json": {
       "model_id": "b461329412a24073845b9fa4b8a4699b",
       "version_major": 2,
       "version_minor": 0
      },
      "text/plain": [
       "Calculating Metrics:   0%|          | 0/4 [00:00<?, ?it/s]"
      ]
     },
     "metadata": {},
     "output_type": "display_data"
    },
    {
     "data": {
      "application/vnd.jupyter.widget-view+json": {
       "model_id": "0f617bffcb7f4ff8bed1a81845d883fc",
       "version_major": 2,
       "version_minor": 0
      },
      "text/plain": [
       "Calculating Metrics:   0%|          | 0/4 [00:00<?, ?it/s]"
      ]
     },
     "metadata": {},
     "output_type": "display_data"
    },
    {
     "data": {
      "application/vnd.jupyter.widget-view+json": {
       "model_id": "fd67a0496852486c8d238bb3771e702d",
       "version_major": 2,
       "version_minor": 0
      },
      "text/plain": [
       "Calculating Metrics:   0%|          | 0/4 [00:00<?, ?it/s]"
      ]
     },
     "metadata": {},
     "output_type": "display_data"
    },
    {
     "data": {
      "application/vnd.jupyter.widget-view+json": {
       "model_id": "7a12e631df824bea981fe6fa8ad082b5",
       "version_major": 2,
       "version_minor": 0
      },
      "text/plain": [
       "Calculating Metrics:   0%|          | 0/4 [00:00<?, ?it/s]"
      ]
     },
     "metadata": {},
     "output_type": "display_data"
    },
    {
     "data": {
      "application/vnd.jupyter.widget-view+json": {
       "model_id": "5e313d666a4546b79e6e2815036bc506",
       "version_major": 2,
       "version_minor": 0
      },
      "text/plain": [
       "Calculating Metrics:   0%|          | 0/4 [00:00<?, ?it/s]"
      ]
     },
     "metadata": {},
     "output_type": "display_data"
    },
    {
     "data": {
      "application/vnd.jupyter.widget-view+json": {
       "model_id": "701ddcd9cc4342ceb412df6eeb57ec72",
       "version_major": 2,
       "version_minor": 0
      },
      "text/plain": [
       "Calculating Metrics:   0%|          | 0/6 [00:00<?, ?it/s]"
      ]
     },
     "metadata": {},
     "output_type": "display_data"
    },
    {
     "data": {
      "application/vnd.jupyter.widget-view+json": {
       "model_id": "510141bc1cdc4cc4a4c8c014c859dd17",
       "version_major": 2,
       "version_minor": 0
      },
      "text/plain": [
       "Calculating Metrics:   0%|          | 0/6 [00:00<?, ?it/s]"
      ]
     },
     "metadata": {},
     "output_type": "display_data"
    },
    {
     "data": {
      "application/vnd.jupyter.widget-view+json": {
       "model_id": "bcd58fd129d540c48d6aad8b9a96e9cc",
       "version_major": 2,
       "version_minor": 0
      },
      "text/plain": [
       "Calculating Metrics:   0%|          | 0/4 [00:00<?, ?it/s]"
      ]
     },
     "metadata": {},
     "output_type": "display_data"
    },
    {
     "data": {
      "application/vnd.jupyter.widget-view+json": {
       "model_id": "3f0dac17c1734be8919e74815d490e1a",
       "version_major": 2,
       "version_minor": 0
      },
      "text/plain": [
       "Calculating Metrics:   0%|          | 0/4 [00:00<?, ?it/s]"
      ]
     },
     "metadata": {},
     "output_type": "display_data"
    },
    {
     "data": {
      "application/vnd.jupyter.widget-view+json": {
       "model_id": "2cc2261e022646c29c1a58e0212d177b",
       "version_major": 2,
       "version_minor": 0
      },
      "text/plain": [
       "Calculating Metrics:   0%|          | 0/4 [00:00<?, ?it/s]"
      ]
     },
     "metadata": {},
     "output_type": "display_data"
    },
    {
     "data": {
      "application/vnd.jupyter.widget-view+json": {
       "model_id": "c6018e4523bc4129956efc9ba658d01d",
       "version_major": 2,
       "version_minor": 0
      },
      "text/plain": [
       "Calculating Metrics:   0%|          | 0/4 [00:00<?, ?it/s]"
      ]
     },
     "metadata": {},
     "output_type": "display_data"
    },
    {
     "data": {
      "application/vnd.jupyter.widget-view+json": {
       "model_id": "d91a180dcd094a0dbdeaa65376dbe0e4",
       "version_major": 2,
       "version_minor": 0
      },
      "text/plain": [
       "Calculating Metrics:   0%|          | 0/4 [00:00<?, ?it/s]"
      ]
     },
     "metadata": {},
     "output_type": "display_data"
    },
    {
     "data": {
      "application/vnd.jupyter.widget-view+json": {
       "model_id": "3de3cd33f99a46a599f5ca230d4b727a",
       "version_major": 2,
       "version_minor": 0
      },
      "text/plain": [
       "Calculating Metrics:   0%|          | 0/4 [00:00<?, ?it/s]"
      ]
     },
     "metadata": {},
     "output_type": "display_data"
    },
    {
     "data": {
      "application/vnd.jupyter.widget-view+json": {
       "model_id": "e1785d2153a74596be206c37113ff2a8",
       "version_major": 2,
       "version_minor": 0
      },
      "text/plain": [
       "Calculating Metrics:   0%|          | 0/4 [00:00<?, ?it/s]"
      ]
     },
     "metadata": {},
     "output_type": "display_data"
    },
    {
     "data": {
      "application/vnd.jupyter.widget-view+json": {
       "model_id": "134f27b174a54f6980f757ec4a7a8e2a",
       "version_major": 2,
       "version_minor": 0
      },
      "text/plain": [
       "Calculating Metrics:   0%|          | 0/6 [00:00<?, ?it/s]"
      ]
     },
     "metadata": {},
     "output_type": "display_data"
    },
    {
     "data": {
      "application/vnd.jupyter.widget-view+json": {
       "model_id": "3f38275698924cd1b563ab46febd8867",
       "version_major": 2,
       "version_minor": 0
      },
      "text/plain": [
       "Calculating Metrics:   0%|          | 0/6 [00:00<?, ?it/s]"
      ]
     },
     "metadata": {},
     "output_type": "display_data"
    },
    {
     "data": {
      "application/vnd.jupyter.widget-view+json": {
       "model_id": "c497adab042c41538e9b28c3fdbe3b2b",
       "version_major": 2,
       "version_minor": 0
      },
      "text/plain": [
       "Calculating Metrics:   0%|          | 0/4 [00:00<?, ?it/s]"
      ]
     },
     "metadata": {},
     "output_type": "display_data"
    },
    {
     "data": {
      "application/vnd.jupyter.widget-view+json": {
       "model_id": "8ab0ab098dfa4ce1b7b7026a65a59350",
       "version_major": 2,
       "version_minor": 0
      },
      "text/plain": [
       "Calculating Metrics:   0%|          | 0/4 [00:00<?, ?it/s]"
      ]
     },
     "metadata": {},
     "output_type": "display_data"
    },
    {
     "data": {
      "application/vnd.jupyter.widget-view+json": {
       "model_id": "80c93c599e4e456580a7633511a6a315",
       "version_major": 2,
       "version_minor": 0
      },
      "text/plain": [
       "Calculating Metrics:   0%|          | 0/4 [00:00<?, ?it/s]"
      ]
     },
     "metadata": {},
     "output_type": "display_data"
    },
    {
     "data": {
      "application/vnd.jupyter.widget-view+json": {
       "model_id": "fa72017600ce4b36a33c4ab80a7077eb",
       "version_major": 2,
       "version_minor": 0
      },
      "text/plain": [
       "Calculating Metrics:   0%|          | 0/4 [00:00<?, ?it/s]"
      ]
     },
     "metadata": {},
     "output_type": "display_data"
    },
    {
     "data": {
      "application/vnd.jupyter.widget-view+json": {
       "model_id": "db79b80232ff41af9fedf7a08d208ece",
       "version_major": 2,
       "version_minor": 0
      },
      "text/plain": [
       "Calculating Metrics:   0%|          | 0/4 [00:00<?, ?it/s]"
      ]
     },
     "metadata": {},
     "output_type": "display_data"
    },
    {
     "data": {
      "application/vnd.jupyter.widget-view+json": {
       "model_id": "80d558c6bc1f4210837d666382b7d31b",
       "version_major": 2,
       "version_minor": 0
      },
      "text/plain": [
       "Calculating Metrics:   0%|          | 0/4 [00:00<?, ?it/s]"
      ]
     },
     "metadata": {},
     "output_type": "display_data"
    },
    {
     "data": {
      "application/vnd.jupyter.widget-view+json": {
       "model_id": "f2b5b2a5a8144f0191e20794c72525f3",
       "version_major": 2,
       "version_minor": 0
      },
      "text/plain": [
       "Calculating Metrics:   0%|          | 0/4 [00:00<?, ?it/s]"
      ]
     },
     "metadata": {},
     "output_type": "display_data"
    },
    {
     "data": {
      "application/vnd.jupyter.widget-view+json": {
       "model_id": "ac5a37ef200142279eb7603e4f4926f2",
       "version_major": 2,
       "version_minor": 0
      },
      "text/plain": [
       "Calculating Metrics:   0%|          | 0/6 [00:00<?, ?it/s]"
      ]
     },
     "metadata": {},
     "output_type": "display_data"
    },
    {
     "data": {
      "application/vnd.jupyter.widget-view+json": {
       "model_id": "07cc20061c0d4a42b69c18e3da57bf69",
       "version_major": 2,
       "version_minor": 0
      },
      "text/plain": [
       "Calculating Metrics:   0%|          | 0/6 [00:00<?, ?it/s]"
      ]
     },
     "metadata": {},
     "output_type": "display_data"
    },
    {
     "data": {
      "application/vnd.jupyter.widget-view+json": {
       "model_id": "94c4a74c7ea54827a3d0227fa837eae9",
       "version_major": 2,
       "version_minor": 0
      },
      "text/plain": [
       "Calculating Metrics:   0%|          | 0/4 [00:00<?, ?it/s]"
      ]
     },
     "metadata": {},
     "output_type": "display_data"
    },
    {
     "data": {
      "application/vnd.jupyter.widget-view+json": {
       "model_id": "ebc2fcc4adc840ec867fabd618d20be8",
       "version_major": 2,
       "version_minor": 0
      },
      "text/plain": [
       "Calculating Metrics:   0%|          | 0/4 [00:00<?, ?it/s]"
      ]
     },
     "metadata": {},
     "output_type": "display_data"
    },
    {
     "data": {
      "application/vnd.jupyter.widget-view+json": {
       "model_id": "9858bd89e1184852b77411495b0fd573",
       "version_major": 2,
       "version_minor": 0
      },
      "text/plain": [
       "Calculating Metrics:   0%|          | 0/4 [00:00<?, ?it/s]"
      ]
     },
     "metadata": {},
     "output_type": "display_data"
    },
    {
     "data": {
      "application/vnd.jupyter.widget-view+json": {
       "model_id": "ff367462cca7477d820382434fbd3de2",
       "version_major": 2,
       "version_minor": 0
      },
      "text/plain": [
       "Calculating Metrics:   0%|          | 0/4 [00:00<?, ?it/s]"
      ]
     },
     "metadata": {},
     "output_type": "display_data"
    },
    {
     "data": {
      "application/vnd.jupyter.widget-view+json": {
       "model_id": "827f19771f5b4f8dab8b11b53b3a471c",
       "version_major": 2,
       "version_minor": 0
      },
      "text/plain": [
       "Calculating Metrics:   0%|          | 0/4 [00:00<?, ?it/s]"
      ]
     },
     "metadata": {},
     "output_type": "display_data"
    },
    {
     "data": {
      "application/vnd.jupyter.widget-view+json": {
       "model_id": "6258a1767eb44786b184b8be24e3b18f",
       "version_major": 2,
       "version_minor": 0
      },
      "text/plain": [
       "Calculating Metrics:   0%|          | 0/4 [00:00<?, ?it/s]"
      ]
     },
     "metadata": {},
     "output_type": "display_data"
    },
    {
     "data": {
      "application/vnd.jupyter.widget-view+json": {
       "model_id": "d93dbbd90e2742f794bda1bd222d4f4c",
       "version_major": 2,
       "version_minor": 0
      },
      "text/plain": [
       "Calculating Metrics:   0%|          | 0/4 [00:00<?, ?it/s]"
      ]
     },
     "metadata": {},
     "output_type": "display_data"
    },
    {
     "data": {
      "application/vnd.jupyter.widget-view+json": {
       "model_id": "2f66a64a3b9a46b9b0c52743e3dae93f",
       "version_major": 2,
       "version_minor": 0
      },
      "text/plain": [
       "Calculating Metrics:   0%|          | 0/2 [00:00<?, ?it/s]"
      ]
     },
     "metadata": {},
     "output_type": "display_data"
    },
    {
     "data": {
      "application/vnd.jupyter.widget-view+json": {
       "model_id": "2b687230d9f3444bbf1d894fada296a1",
       "version_major": 2,
       "version_minor": 0
      },
      "text/plain": [
       "Calculating Metrics:   0%|          | 0/1 [00:00<?, ?it/s]"
      ]
     },
     "metadata": {},
     "output_type": "display_data"
    },
    {
     "data": {
      "application/vnd.jupyter.widget-view+json": {
       "model_id": "cadd69f626404264b1d929751f080431",
       "version_major": 2,
       "version_minor": 0
      },
      "text/plain": [
       "Profiling Dataset:         0%|          | 0/0 [00:00<?, ?it/s]"
      ]
     },
     "metadata": {},
     "output_type": "display_data"
    },
    {
     "data": {
      "application/vnd.jupyter.widget-view+json": {
       "model_id": "28cd7025516e4610a4bef0edbf52cc6d",
       "version_major": 2,
       "version_minor": 0
      },
      "text/plain": [
       "Calculating Metrics:   0%|          | 0/2 [00:00<?, ?it/s]"
      ]
     },
     "metadata": {},
     "output_type": "display_data"
    },
    {
     "data": {
      "application/vnd.jupyter.widget-view+json": {
       "model_id": "b5b98a65fc1842b5a6209a40d5cdba85",
       "version_major": 2,
       "version_minor": 0
      },
      "text/plain": [
       "Calculating Metrics:   0%|          | 0/1 [00:00<?, ?it/s]"
      ]
     },
     "metadata": {},
     "output_type": "display_data"
    },
    {
     "data": {
      "application/vnd.jupyter.widget-view+json": {
       "model_id": "4daf90419717471694a4d4137cc141ae",
       "version_major": 2,
       "version_minor": 0
      },
      "text/plain": [
       "Profiling Dataset:         0%|          | 0/0 [00:00<?, ?it/s]"
      ]
     },
     "metadata": {},
     "output_type": "display_data"
    },
    {
     "data": {
      "application/vnd.jupyter.widget-view+json": {
       "model_id": "d21dc3398e374152bd1e27b4e8c8a688",
       "version_major": 2,
       "version_minor": 0
      },
      "text/plain": [
       "Calculating Metrics:   0%|          | 0/2 [00:00<?, ?it/s]"
      ]
     },
     "metadata": {},
     "output_type": "display_data"
    },
    {
     "data": {
      "application/vnd.jupyter.widget-view+json": {
       "model_id": "a25d1b40913e447d8c41b135c1e7cb28",
       "version_major": 2,
       "version_minor": 0
      },
      "text/plain": [
       "Calculating Metrics:   0%|          | 0/1 [00:00<?, ?it/s]"
      ]
     },
     "metadata": {},
     "output_type": "display_data"
    },
    {
     "data": {
      "application/vnd.jupyter.widget-view+json": {
       "model_id": "75239882ad20436fa87baca07542bb3b",
       "version_major": 2,
       "version_minor": 0
      },
      "text/plain": [
       "Calculating Metrics:   0%|          | 0/8 [00:00<?, ?it/s]"
      ]
     },
     "metadata": {},
     "output_type": "display_data"
    },
    {
     "data": {
      "application/vnd.jupyter.widget-view+json": {
       "model_id": "e675eadd2449487bb0165c38d0c77df2",
       "version_major": 2,
       "version_minor": 0
      },
      "text/plain": [
       "Profiling Dataset:         0%|          | 0/5 [00:00<?, ?it/s]"
      ]
     },
     "metadata": {},
     "output_type": "display_data"
    },
    {
     "data": {
      "application/vnd.jupyter.widget-view+json": {
       "model_id": "0cf4cdf6e4e04c26aa7c53bceb92afd5",
       "version_major": 2,
       "version_minor": 0
      },
      "text/plain": [
       "Calculating Metrics:   0%|          | 0/4 [00:00<?, ?it/s]"
      ]
     },
     "metadata": {},
     "output_type": "display_data"
    },
    {
     "data": {
      "application/vnd.jupyter.widget-view+json": {
       "model_id": "5dc2a7f05b814e95b632ba442a95a9e4",
       "version_major": 2,
       "version_minor": 0
      },
      "text/plain": [
       "Calculating Metrics:   0%|          | 0/4 [00:00<?, ?it/s]"
      ]
     },
     "metadata": {},
     "output_type": "display_data"
    },
    {
     "data": {
      "application/vnd.jupyter.widget-view+json": {
       "model_id": "5955d18c7b534db1841f1cf11e0c0b39",
       "version_major": 2,
       "version_minor": 0
      },
      "text/plain": [
       "Calculating Metrics:   0%|          | 0/4 [00:00<?, ?it/s]"
      ]
     },
     "metadata": {},
     "output_type": "display_data"
    },
    {
     "data": {
      "application/vnd.jupyter.widget-view+json": {
       "model_id": "098bab3e5c72411db7c7ed8ae443dd68",
       "version_major": 2,
       "version_minor": 0
      },
      "text/plain": [
       "Calculating Metrics:   0%|          | 0/7 [00:00<?, ?it/s]"
      ]
     },
     "metadata": {},
     "output_type": "display_data"
    },
    {
     "data": {
      "application/vnd.jupyter.widget-view+json": {
       "model_id": "76d3d81fc30f4066afa9429bd26b5ffe",
       "version_major": 2,
       "version_minor": 0
      },
      "text/plain": [
       "Calculating Metrics:   0%|          | 0/4 [00:00<?, ?it/s]"
      ]
     },
     "metadata": {},
     "output_type": "display_data"
    },
    {
     "data": {
      "application/vnd.jupyter.widget-view+json": {
       "model_id": "ad168c0e1e8844b38e3da61cfcbd071d",
       "version_major": 2,
       "version_minor": 0
      },
      "text/plain": [
       "Calculating Metrics:   0%|          | 0/4 [00:00<?, ?it/s]"
      ]
     },
     "metadata": {},
     "output_type": "display_data"
    },
    {
     "data": {
      "application/vnd.jupyter.widget-view+json": {
       "model_id": "726589a8f8ad4bb6b8621fdf2f055ca5",
       "version_major": 2,
       "version_minor": 0
      },
      "text/plain": [
       "Calculating Metrics:   0%|          | 0/4 [00:00<?, ?it/s]"
      ]
     },
     "metadata": {},
     "output_type": "display_data"
    },
    {
     "data": {
      "application/vnd.jupyter.widget-view+json": {
       "model_id": "4b32aec3a61a48c88436a9a6613e1024",
       "version_major": 2,
       "version_minor": 0
      },
      "text/plain": [
       "Calculating Metrics:   0%|          | 0/7 [00:00<?, ?it/s]"
      ]
     },
     "metadata": {},
     "output_type": "display_data"
    },
    {
     "data": {
      "application/vnd.jupyter.widget-view+json": {
       "model_id": "d9ec04b740d34b14930329195bbd2ddd",
       "version_major": 2,
       "version_minor": 0
      },
      "text/plain": [
       "Calculating Metrics:   0%|          | 0/4 [00:00<?, ?it/s]"
      ]
     },
     "metadata": {},
     "output_type": "display_data"
    },
    {
     "data": {
      "application/vnd.jupyter.widget-view+json": {
       "model_id": "c354b9f60e19441aae467027e4f11173",
       "version_major": 2,
       "version_minor": 0
      },
      "text/plain": [
       "Calculating Metrics:   0%|          | 0/4 [00:00<?, ?it/s]"
      ]
     },
     "metadata": {},
     "output_type": "display_data"
    },
    {
     "data": {
      "application/vnd.jupyter.widget-view+json": {
       "model_id": "d1a55502111d4e1ab58e78cfa2cfbeca",
       "version_major": 2,
       "version_minor": 0
      },
      "text/plain": [
       "Calculating Metrics:   0%|          | 0/4 [00:00<?, ?it/s]"
      ]
     },
     "metadata": {},
     "output_type": "display_data"
    },
    {
     "data": {
      "application/vnd.jupyter.widget-view+json": {
       "model_id": "ecc0326b8892454f81be7ad8027ddfcc",
       "version_major": 2,
       "version_minor": 0
      },
      "text/plain": [
       "Calculating Metrics:   0%|          | 0/7 [00:00<?, ?it/s]"
      ]
     },
     "metadata": {},
     "output_type": "display_data"
    },
    {
     "data": {
      "application/vnd.jupyter.widget-view+json": {
       "model_id": "ad05029da394492887374e4e86d7fdb4",
       "version_major": 2,
       "version_minor": 0
      },
      "text/plain": [
       "Calculating Metrics:   0%|          | 0/4 [00:00<?, ?it/s]"
      ]
     },
     "metadata": {},
     "output_type": "display_data"
    },
    {
     "data": {
      "application/vnd.jupyter.widget-view+json": {
       "model_id": "ad562a113ac341e9b4b5588d068d5c23",
       "version_major": 2,
       "version_minor": 0
      },
      "text/plain": [
       "Calculating Metrics:   0%|          | 0/4 [00:00<?, ?it/s]"
      ]
     },
     "metadata": {},
     "output_type": "display_data"
    },
    {
     "data": {
      "application/vnd.jupyter.widget-view+json": {
       "model_id": "061acd34289c4b409ea7ac75fee9eabe",
       "version_major": 2,
       "version_minor": 0
      },
      "text/plain": [
       "Calculating Metrics:   0%|          | 0/4 [00:00<?, ?it/s]"
      ]
     },
     "metadata": {},
     "output_type": "display_data"
    },
    {
     "data": {
      "application/vnd.jupyter.widget-view+json": {
       "model_id": "ad893e8d46e04a7fb849b371ae07cb92",
       "version_major": 2,
       "version_minor": 0
      },
      "text/plain": [
       "Calculating Metrics:   0%|          | 0/7 [00:00<?, ?it/s]"
      ]
     },
     "metadata": {},
     "output_type": "display_data"
    },
    {
     "data": {
      "application/vnd.jupyter.widget-view+json": {
       "model_id": "26e09bb0aa254084a3175962b2011564",
       "version_major": 2,
       "version_minor": 0
      },
      "text/plain": [
       "Calculating Metrics:   0%|          | 0/4 [00:00<?, ?it/s]"
      ]
     },
     "metadata": {},
     "output_type": "display_data"
    },
    {
     "data": {
      "application/vnd.jupyter.widget-view+json": {
       "model_id": "df0a6fd5da2d4a7facd446a29b0962dc",
       "version_major": 2,
       "version_minor": 0
      },
      "text/plain": [
       "Calculating Metrics:   0%|          | 0/4 [00:00<?, ?it/s]"
      ]
     },
     "metadata": {},
     "output_type": "display_data"
    },
    {
     "data": {
      "application/vnd.jupyter.widget-view+json": {
       "model_id": "b8b211103fb542759b0c2e6307218fda",
       "version_major": 2,
       "version_minor": 0
      },
      "text/plain": [
       "Calculating Metrics:   0%|          | 0/4 [00:00<?, ?it/s]"
      ]
     },
     "metadata": {},
     "output_type": "display_data"
    },
    {
     "data": {
      "application/vnd.jupyter.widget-view+json": {
       "model_id": "a3a7ffdb53394e88a528e14685a5af4b",
       "version_major": 2,
       "version_minor": 0
      },
      "text/plain": [
       "Calculating Metrics:   0%|          | 0/7 [00:00<?, ?it/s]"
      ]
     },
     "metadata": {},
     "output_type": "display_data"
    }
   ],
   "source": [
    "result = context.assistants.onboarding.run(\n",
    "    batch_request=batch_request,\n",
    "    exclude_column_names=exclude_column_names,\n",
    ")\n",
    "validator.expectation_suite = result.get_expectation_suite(\n",
    "    expectation_suite_name=expectation_suite_name\n",
    ")"
   ]
  },
  {
   "cell_type": "markdown",
   "id": "8000beb0",
   "metadata": {},
   "source": [
    "# Save & review your new Expectation Suite\n",
    "\n",
    "Let's save the draft expectation suite as a JSON file in the\n",
    "`great_expectations/expectations` directory of your project and rebuild the Data\n",
    " Docs site to make it easy to review your new suite."
   ]
  },
  {
   "cell_type": "code",
   "execution_count": 5,
   "id": "6549e4fc",
   "metadata": {},
   "outputs": [
    {
     "name": "stdout",
     "output_type": "stream",
     "text": [
      "2024-05-28T09:48:51+0200 - INFO - \t57 expectation(s) included in expectation_suite.\n",
      "{\n",
      "  \"expectation_suite_name\": \"MojSuite\",\n",
      "  \"ge_cloud_id\": null,\n",
      "  \"expectations\": [\n",
      "    {\n",
      "      \"expectation_type\": \"expect_table_row_count_to_be_between\",\n",
      "      \"kwargs\": {\n",
      "        \"min_value\": 6,\n",
      "        \"max_value\": 6\n",
      "      },\n",
      "      \"meta\": {\n",
      "        \"profiler_details\": {\n",
      "          \"metric_configuration\": {\n",
      "            \"metric_name\": \"table.row_count\",\n",
      "            \"domain_kwargs\": {},\n",
      "            \"metric_value_kwargs\": null\n",
      "          },\n",
      "          \"num_batches\": 1\n",
      "        }\n",
      "      }\n",
      "    },\n",
      "    {\n",
      "      \"expectation_type\": \"expect_table_columns_to_match_set\",\n",
      "      \"kwargs\": {\n",
      "        \"column_set\": [\n",
      "          \"Obcutna temperatura\",\n",
      "          \"Road closure\",\n",
      "          \"FRC\",\n",
      "          \"Average speed\",\n",
      "          \"Relativna vlaga (2m)\",\n",
      "          \"Stevilo nesrec\",\n",
      "          \"Free flow speed\",\n",
      "          \"Confidence\",\n",
      "          \"Temperatura (2m)\",\n",
      "          \"Verjetnost padavin\",\n",
      "          \"Free flow travel time\",\n",
      "          \"Temperatura rosisca (2m)\",\n",
      "          \"Current travel time\",\n",
      "          \"Cas\"\n",
      "        ],\n",
      "        \"exact_match\": null\n",
      "      },\n",
      "      \"meta\": {\n",
      "        \"profiler_details\": {\n",
      "          \"success_ratio\": 1.0\n",
      "        }\n",
      "      }\n",
      "    },\n",
      "    {\n",
      "      \"expectation_type\": \"expect_column_values_to_not_be_null\",\n",
      "      \"kwargs\": {\n",
      "        \"column\": \"Temperatura (2m)\"\n",
      "      },\n",
      "      \"meta\": {\n",
      "        \"profiler_details\": {\n",
      "          \"metric_configuration\": {\n",
      "            \"metric_name\": \"column_values.nonnull.unexpected_count\",\n",
      "            \"domain_kwargs\": {\n",
      "              \"column\": \"Temperatura (2m)\"\n",
      "            },\n",
      "            \"metric_value_kwargs\": null\n",
      "          },\n",
      "          \"num_batches\": 1\n",
      "        }\n",
      "      }\n",
      "    },\n",
      "    {\n",
      "      \"expectation_type\": \"expect_column_values_to_not_be_null\",\n",
      "      \"kwargs\": {\n",
      "        \"column\": \"Relativna vlaga (2m)\"\n",
      "      },\n",
      "      \"meta\": {\n",
      "        \"profiler_details\": {\n",
      "          \"metric_configuration\": {\n",
      "            \"metric_name\": \"column_values.nonnull.unexpected_count\",\n",
      "            \"domain_kwargs\": {\n",
      "              \"column\": \"Relativna vlaga (2m)\"\n",
      "            },\n",
      "            \"metric_value_kwargs\": null\n",
      "          },\n",
      "          \"num_batches\": 1\n",
      "        }\n",
      "      }\n",
      "    },\n",
      "    {\n",
      "      \"expectation_type\": \"expect_column_values_to_not_be_null\",\n",
      "      \"kwargs\": {\n",
      "        \"column\": \"Temperatura rosisca (2m)\"\n",
      "      },\n",
      "      \"meta\": {\n",
      "        \"profiler_details\": {\n",
      "          \"metric_configuration\": {\n",
      "            \"metric_name\": \"column_values.nonnull.unexpected_count\",\n",
      "            \"domain_kwargs\": {\n",
      "              \"column\": \"Temperatura rosisca (2m)\"\n",
      "            },\n",
      "            \"metric_value_kwargs\": null\n",
      "          },\n",
      "          \"num_batches\": 1\n",
      "        }\n",
      "      }\n",
      "    },\n",
      "    {\n",
      "      \"expectation_type\": \"expect_column_values_to_not_be_null\",\n",
      "      \"kwargs\": {\n",
      "        \"column\": \"Average speed\"\n",
      "      },\n",
      "      \"meta\": {\n",
      "        \"profiler_details\": {\n",
      "          \"metric_configuration\": {\n",
      "            \"metric_name\": \"column_values.nonnull.unexpected_count\",\n",
      "            \"domain_kwargs\": {\n",
      "              \"column\": \"Average speed\"\n",
      "            },\n",
      "            \"metric_value_kwargs\": null\n",
      "          },\n",
      "          \"num_batches\": 1\n",
      "        }\n",
      "      }\n",
      "    },\n",
      "    {\n",
      "      \"expectation_type\": \"expect_column_values_to_not_be_null\",\n",
      "      \"kwargs\": {\n",
      "        \"column\": \"Free flow speed\"\n",
      "      },\n",
      "      \"meta\": {\n",
      "        \"profiler_details\": {\n",
      "          \"metric_configuration\": {\n",
      "            \"metric_name\": \"column_values.nonnull.unexpected_count\",\n",
      "            \"domain_kwargs\": {\n",
      "              \"column\": \"Free flow speed\"\n",
      "            },\n",
      "            \"metric_value_kwargs\": null\n",
      "          },\n",
      "          \"num_batches\": 1\n",
      "        }\n",
      "      }\n",
      "    },\n",
      "    {\n",
      "      \"expectation_type\": \"expect_column_min_to_be_between\",\n",
      "      \"kwargs\": {\n",
      "        \"strict_min\": false,\n",
      "        \"column\": \"Temperatura (2m)\",\n",
      "        \"strict_max\": false,\n",
      "        \"min_value\": 18.3,\n",
      "        \"max_value\": 18.3\n",
      "      },\n",
      "      \"meta\": {\n",
      "        \"profiler_details\": {\n",
      "          \"metric_configuration\": {\n",
      "            \"metric_name\": \"column.min\",\n",
      "            \"domain_kwargs\": {\n",
      "              \"column\": \"Temperatura (2m)\"\n",
      "            },\n",
      "            \"metric_value_kwargs\": null\n",
      "          },\n",
      "          \"num_batches\": 1\n",
      "        }\n",
      "      }\n",
      "    },\n",
      "    {\n",
      "      \"expectation_type\": \"expect_column_max_to_be_between\",\n",
      "      \"kwargs\": {\n",
      "        \"strict_min\": false,\n",
      "        \"column\": \"Temperatura (2m)\",\n",
      "        \"strict_max\": false,\n",
      "        \"min_value\": 23.5,\n",
      "        \"max_value\": 23.5\n",
      "      },\n",
      "      \"meta\": {\n",
      "        \"profiler_details\": {\n",
      "          \"metric_configuration\": {\n",
      "            \"metric_name\": \"column.max\",\n",
      "            \"domain_kwargs\": {\n",
      "              \"column\": \"Temperatura (2m)\"\n",
      "            },\n",
      "            \"metric_value_kwargs\": null\n",
      "          },\n",
      "          \"num_batches\": 1\n",
      "        }\n",
      "      }\n",
      "    },\n",
      "    {\n",
      "      \"expectation_type\": \"expect_column_values_to_be_between\",\n",
      "      \"kwargs\": {\n",
      "        \"strict_min\": false,\n",
      "        \"column\": \"Temperatura (2m)\",\n",
      "        \"strict_max\": false,\n",
      "        \"min_value\": 18.3,\n",
      "        \"mostly\": 1.0,\n",
      "        \"max_value\": 23.5\n",
      "      },\n",
      "      \"meta\": {\n",
      "        \"profiler_details\": {\n",
      "          \"column_min_values_range_estimator\": {\n",
      "            \"metric_configuration\": {\n",
      "              \"metric_name\": \"column.min\",\n",
      "              \"domain_kwargs\": {\n",
      "                \"column\": \"Temperatura (2m)\"\n",
      "              },\n",
      "              \"metric_value_kwargs\": null\n",
      "            },\n",
      "            \"num_batches\": 1\n",
      "          },\n",
      "          \"column_max_values_range_estimator\": {\n",
      "            \"metric_configuration\": {\n",
      "              \"metric_name\": \"column.max\",\n",
      "              \"domain_kwargs\": {\n",
      "                \"column\": \"Temperatura (2m)\"\n",
      "              },\n",
      "              \"metric_value_kwargs\": null\n",
      "            },\n",
      "            \"num_batches\": 1\n",
      "          }\n",
      "        }\n",
      "      }\n",
      "    },\n",
      "    {\n",
      "      \"expectation_type\": \"expect_column_quantile_values_to_be_between\",\n",
      "      \"kwargs\": {\n",
      "        \"column\": \"Temperatura (2m)\",\n",
      "        \"quantile_ranges\": {\n",
      "          \"quantiles\": [\n",
      "            0.25,\n",
      "            0.5,\n",
      "            0.75\n",
      "          ],\n",
      "          \"value_ranges\": [\n",
      "            [\n",
      "              18.4,\n",
      "              18.4\n",
      "            ],\n",
      "            [\n",
      "              18.4,\n",
      "              18.4\n",
      "            ],\n",
      "            [\n",
      "              19.0,\n",
      "              19.0\n",
      "            ]\n",
      "          ]\n",
      "        },\n",
      "        \"allow_relative_error\": false\n",
      "      },\n",
      "      \"meta\": {\n",
      "        \"profiler_details\": {\n",
      "          \"metric_configuration\": {\n",
      "            \"metric_name\": \"column.quantile_values\",\n",
      "            \"domain_kwargs\": {\n",
      "              \"column\": \"Temperatura (2m)\"\n",
      "            },\n",
      "            \"metric_value_kwargs\": {\n",
      "              \"quantiles\": [\n",
      "                0.25,\n",
      "                0.5,\n",
      "                0.75\n",
      "              ],\n",
      "              \"allow_relative_error\": false\n",
      "            }\n",
      "          },\n",
      "          \"num_batches\": 1\n",
      "        }\n",
      "      }\n",
      "    },\n",
      "    {\n",
      "      \"expectation_type\": \"expect_column_median_to_be_between\",\n",
      "      \"kwargs\": {\n",
      "        \"strict_min\": false,\n",
      "        \"column\": \"Temperatura (2m)\",\n",
      "        \"strict_max\": false,\n",
      "        \"min_value\": 18.7,\n",
      "        \"max_value\": 18.7\n",
      "      },\n",
      "      \"meta\": {\n",
      "        \"profiler_details\": {\n",
      "          \"metric_configuration\": {\n",
      "            \"metric_name\": \"column.median\",\n",
      "            \"domain_kwargs\": {\n",
      "              \"column\": \"Temperatura (2m)\"\n",
      "            },\n",
      "            \"metric_value_kwargs\": null\n",
      "          },\n",
      "          \"num_batches\": 1\n",
      "        }\n",
      "      }\n",
      "    },\n",
      "    {\n",
      "      \"expectation_type\": \"expect_column_mean_to_be_between\",\n",
      "      \"kwargs\": {\n",
      "        \"strict_min\": false,\n",
      "        \"column\": \"Temperatura (2m)\",\n",
      "        \"strict_max\": false,\n",
      "        \"min_value\": 19.433333333333334,\n",
      "        \"max_value\": 19.433333333333334\n",
      "      },\n",
      "      \"meta\": {\n",
      "        \"profiler_details\": {\n",
      "          \"metric_configuration\": {\n",
      "            \"metric_name\": \"column.mean\",\n",
      "            \"domain_kwargs\": {\n",
      "              \"column\": \"Temperatura (2m)\"\n",
      "            },\n",
      "            \"metric_value_kwargs\": null\n",
      "          },\n",
      "          \"num_batches\": 1\n",
      "        }\n",
      "      }\n",
      "    },\n",
      "    {\n",
      "      \"expectation_type\": \"expect_column_stdev_to_be_between\",\n",
      "      \"kwargs\": {\n",
      "        \"strict_min\": false,\n",
      "        \"column\": \"Temperatura (2m)\",\n",
      "        \"strict_max\": false,\n",
      "        \"min_value\": 2.0165977949672236,\n",
      "        \"max_value\": 2.0165977949672236\n",
      "      },\n",
      "      \"meta\": {\n",
      "        \"profiler_details\": {\n",
      "          \"metric_configuration\": {\n",
      "            \"metric_name\": \"column.standard_deviation\",\n",
      "            \"domain_kwargs\": {\n",
      "              \"column\": \"Temperatura (2m)\"\n",
      "            },\n",
      "            \"metric_value_kwargs\": null\n",
      "          },\n",
      "          \"num_batches\": 1\n",
      "        }\n",
      "      }\n",
      "    },\n",
      "    {\n",
      "      \"expectation_type\": \"expect_column_min_to_be_between\",\n",
      "      \"kwargs\": {\n",
      "        \"strict_min\": false,\n",
      "        \"column\": \"Relativna vlaga (2m)\",\n",
      "        \"strict_max\": false,\n",
      "        \"min_value\": 74,\n",
      "        \"max_value\": 74\n",
      "      },\n",
      "      \"meta\": {\n",
      "        \"profiler_details\": {\n",
      "          \"metric_configuration\": {\n",
      "            \"metric_name\": \"column.min\",\n",
      "            \"domain_kwargs\": {\n",
      "              \"column\": \"Relativna vlaga (2m)\"\n",
      "            },\n",
      "            \"metric_value_kwargs\": null\n",
      "          },\n",
      "          \"num_batches\": 1\n",
      "        }\n",
      "      }\n",
      "    },\n",
      "    {\n",
      "      \"expectation_type\": \"expect_column_max_to_be_between\",\n",
      "      \"kwargs\": {\n",
      "        \"strict_min\": false,\n",
      "        \"column\": \"Relativna vlaga (2m)\",\n",
      "        \"strict_max\": false,\n",
      "        \"min_value\": 100,\n",
      "        \"max_value\": 100\n",
      "      },\n",
      "      \"meta\": {\n",
      "        \"profiler_details\": {\n",
      "          \"metric_configuration\": {\n",
      "            \"metric_name\": \"column.max\",\n",
      "            \"domain_kwargs\": {\n",
      "              \"column\": \"Relativna vlaga (2m)\"\n",
      "            },\n",
      "            \"metric_value_kwargs\": null\n",
      "          },\n",
      "          \"num_batches\": 1\n",
      "        }\n",
      "      }\n",
      "    },\n",
      "    {\n",
      "      \"expectation_type\": \"expect_column_values_to_be_between\",\n",
      "      \"kwargs\": {\n",
      "        \"strict_min\": false,\n",
      "        \"column\": \"Relativna vlaga (2m)\",\n",
      "        \"strict_max\": false,\n",
      "        \"min_value\": 74,\n",
      "        \"mostly\": 1.0,\n",
      "        \"max_value\": 100\n",
      "      },\n",
      "      \"meta\": {\n",
      "        \"profiler_details\": {\n",
      "          \"column_min_values_range_estimator\": {\n",
      "            \"metric_configuration\": {\n",
      "              \"metric_name\": \"column.min\",\n",
      "              \"domain_kwargs\": {\n",
      "                \"column\": \"Relativna vlaga (2m)\"\n",
      "              },\n",
      "              \"metric_value_kwargs\": null\n",
      "            },\n",
      "            \"num_batches\": 1\n",
      "          },\n",
      "          \"column_max_values_range_estimator\": {\n",
      "            \"metric_configuration\": {\n",
      "              \"metric_name\": \"column.max\",\n",
      "              \"domain_kwargs\": {\n",
      "                \"column\": \"Relativna vlaga (2m)\"\n",
      "              },\n",
      "              \"metric_value_kwargs\": null\n",
      "            },\n",
      "            \"num_batches\": 1\n",
      "          }\n",
      "        }\n",
      "      }\n",
      "    },\n",
      "    {\n",
      "      \"expectation_type\": \"expect_column_quantile_values_to_be_between\",\n",
      "      \"kwargs\": {\n",
      "        \"column\": \"Relativna vlaga (2m)\",\n",
      "        \"quantile_ranges\": {\n",
      "          \"quantiles\": [\n",
      "            0.25,\n",
      "            0.5,\n",
      "            0.75\n",
      "          ],\n",
      "          \"value_ranges\": [\n",
      "            [\n",
      "              94,\n",
      "              94\n",
      "            ],\n",
      "            [\n",
      "              94,\n",
      "              94\n",
      "            ],\n",
      "            [\n",
      "              100,\n",
      "              100\n",
      "            ]\n",
      "          ]\n",
      "        },\n",
      "        \"allow_relative_error\": false\n",
      "      },\n",
      "      \"meta\": {\n",
      "        \"profiler_details\": {\n",
      "          \"metric_configuration\": {\n",
      "            \"metric_name\": \"column.quantile_values\",\n",
      "            \"domain_kwargs\": {\n",
      "              \"column\": \"Relativna vlaga (2m)\"\n",
      "            },\n",
      "            \"metric_value_kwargs\": {\n",
      "              \"quantiles\": [\n",
      "                0.25,\n",
      "                0.5,\n",
      "                0.75\n",
      "              ],\n",
      "              \"allow_relative_error\": false\n",
      "            }\n",
      "          },\n",
      "          \"num_batches\": 1\n",
      "        }\n",
      "      }\n",
      "    },\n",
      "    {\n",
      "      \"expectation_type\": \"expect_column_median_to_be_between\",\n",
      "      \"kwargs\": {\n",
      "        \"strict_min\": false,\n",
      "        \"column\": \"Relativna vlaga (2m)\",\n",
      "        \"strict_max\": false,\n",
      "        \"min_value\": 97.0,\n",
      "        \"max_value\": 97.0\n",
      "      },\n",
      "      \"meta\": {\n",
      "        \"profiler_details\": {\n",
      "          \"metric_configuration\": {\n",
      "            \"metric_name\": \"column.median\",\n",
      "            \"domain_kwargs\": {\n",
      "              \"column\": \"Relativna vlaga (2m)\"\n",
      "            },\n",
      "            \"metric_value_kwargs\": null\n",
      "          },\n",
      "          \"num_batches\": 1\n",
      "        }\n",
      "      }\n",
      "    },\n",
      "    {\n",
      "      \"expectation_type\": \"expect_column_mean_to_be_between\",\n",
      "      \"kwargs\": {\n",
      "        \"strict_min\": false,\n",
      "        \"column\": \"Relativna vlaga (2m)\",\n",
      "        \"strict_max\": false,\n",
      "        \"min_value\": 93.66666666666667,\n",
      "        \"max_value\": 93.66666666666667\n",
      "      },\n",
      "      \"meta\": {\n",
      "        \"profiler_details\": {\n",
      "          \"metric_configuration\": {\n",
      "            \"metric_name\": \"column.mean\",\n",
      "            \"domain_kwargs\": {\n",
      "              \"column\": \"Relativna vlaga (2m)\"\n",
      "            },\n",
      "            \"metric_value_kwargs\": null\n",
      "          },\n",
      "          \"num_batches\": 1\n",
      "        }\n",
      "      }\n",
      "    },\n",
      "    {\n",
      "      \"expectation_type\": \"expect_column_stdev_to_be_between\",\n",
      "      \"kwargs\": {\n",
      "        \"strict_min\": false,\n",
      "        \"column\": \"Relativna vlaga (2m)\",\n",
      "        \"strict_max\": false,\n",
      "        \"min_value\": 10.073066398404542,\n",
      "        \"max_value\": 10.073066398404542\n",
      "      },\n",
      "      \"meta\": {\n",
      "        \"profiler_details\": {\n",
      "          \"metric_configuration\": {\n",
      "            \"metric_name\": \"column.standard_deviation\",\n",
      "            \"domain_kwargs\": {\n",
      "              \"column\": \"Relativna vlaga (2m)\"\n",
      "            },\n",
      "            \"metric_value_kwargs\": null\n",
      "          },\n",
      "          \"num_batches\": 1\n",
      "        }\n",
      "      }\n",
      "    },\n",
      "    {\n",
      "      \"expectation_type\": \"expect_column_min_to_be_between\",\n",
      "      \"kwargs\": {\n",
      "        \"strict_min\": false,\n",
      "        \"column\": \"Temperatura rosisca (2m)\",\n",
      "        \"strict_max\": false,\n",
      "        \"min_value\": 18.0,\n",
      "        \"max_value\": 18.0\n",
      "      },\n",
      "      \"meta\": {\n",
      "        \"profiler_details\": {\n",
      "          \"metric_configuration\": {\n",
      "            \"metric_name\": \"column.min\",\n",
      "            \"domain_kwargs\": {\n",
      "              \"column\": \"Temperatura rosisca (2m)\"\n",
      "            },\n",
      "            \"metric_value_kwargs\": null\n",
      "          },\n",
      "          \"num_batches\": 1\n",
      "        }\n",
      "      }\n",
      "    },\n",
      "    {\n",
      "      \"expectation_type\": \"expect_column_max_to_be_between\",\n",
      "      \"kwargs\": {\n",
      "        \"strict_min\": false,\n",
      "        \"column\": \"Temperatura rosisca (2m)\",\n",
      "        \"strict_max\": false,\n",
      "        \"min_value\": 18.6,\n",
      "        \"max_value\": 18.6\n",
      "      },\n",
      "      \"meta\": {\n",
      "        \"profiler_details\": {\n",
      "          \"metric_configuration\": {\n",
      "            \"metric_name\": \"column.max\",\n",
      "            \"domain_kwargs\": {\n",
      "              \"column\": \"Temperatura rosisca (2m)\"\n",
      "            },\n",
      "            \"metric_value_kwargs\": null\n",
      "          },\n",
      "          \"num_batches\": 1\n",
      "        }\n",
      "      }\n",
      "    },\n",
      "    {\n",
      "      \"expectation_type\": \"expect_column_values_to_be_between\",\n",
      "      \"kwargs\": {\n",
      "        \"strict_min\": false,\n",
      "        \"column\": \"Temperatura rosisca (2m)\",\n",
      "        \"strict_max\": false,\n",
      "        \"min_value\": 18.0,\n",
      "        \"mostly\": 1.0,\n",
      "        \"max_value\": 18.6\n",
      "      },\n",
      "      \"meta\": {\n",
      "        \"profiler_details\": {\n",
      "          \"column_min_values_range_estimator\": {\n",
      "            \"metric_configuration\": {\n",
      "              \"metric_name\": \"column.min\",\n",
      "              \"domain_kwargs\": {\n",
      "                \"column\": \"Temperatura rosisca (2m)\"\n",
      "              },\n",
      "              \"metric_value_kwargs\": null\n",
      "            },\n",
      "            \"num_batches\": 1\n",
      "          },\n",
      "          \"column_max_values_range_estimator\": {\n",
      "            \"metric_configuration\": {\n",
      "              \"metric_name\": \"column.max\",\n",
      "              \"domain_kwargs\": {\n",
      "                \"column\": \"Temperatura rosisca (2m)\"\n",
      "              },\n",
      "              \"metric_value_kwargs\": null\n",
      "            },\n",
      "            \"num_batches\": 1\n",
      "          }\n",
      "        }\n",
      "      }\n",
      "    },\n",
      "    {\n",
      "      \"expectation_type\": \"expect_column_quantile_values_to_be_between\",\n",
      "      \"kwargs\": {\n",
      "        \"column\": \"Temperatura rosisca (2m)\",\n",
      "        \"quantile_ranges\": {\n",
      "          \"quantiles\": [\n",
      "            0.25,\n",
      "            0.5,\n",
      "            0.75\n",
      "          ],\n",
      "          \"value_ranges\": [\n",
      "            [\n",
      "              18.0,\n",
      "              18.0\n",
      "            ],\n",
      "            [\n",
      "              18.3,\n",
      "              18.3\n",
      "            ],\n",
      "            [\n",
      "              18.4,\n",
      "              18.4\n",
      "            ]\n",
      "          ]\n",
      "        },\n",
      "        \"allow_relative_error\": false\n",
      "      },\n",
      "      \"meta\": {\n",
      "        \"profiler_details\": {\n",
      "          \"metric_configuration\": {\n",
      "            \"metric_name\": \"column.quantile_values\",\n",
      "            \"domain_kwargs\": {\n",
      "              \"column\": \"Temperatura rosisca (2m)\"\n",
      "            },\n",
      "            \"metric_value_kwargs\": {\n",
      "              \"quantiles\": [\n",
      "                0.25,\n",
      "                0.5,\n",
      "                0.75\n",
      "              ],\n",
      "              \"allow_relative_error\": false\n",
      "            }\n",
      "          },\n",
      "          \"num_batches\": 1\n",
      "        }\n",
      "      }\n",
      "    },\n",
      "    {\n",
      "      \"expectation_type\": \"expect_column_median_to_be_between\",\n",
      "      \"kwargs\": {\n",
      "        \"strict_min\": false,\n",
      "        \"column\": \"Temperatura rosisca (2m)\",\n",
      "        \"strict_max\": false,\n",
      "        \"min_value\": 18.35,\n",
      "        \"max_value\": 18.35\n",
      "      },\n",
      "      \"meta\": {\n",
      "        \"profiler_details\": {\n",
      "          \"metric_configuration\": {\n",
      "            \"metric_name\": \"column.median\",\n",
      "            \"domain_kwargs\": {\n",
      "              \"column\": \"Temperatura rosisca (2m)\"\n",
      "            },\n",
      "            \"metric_value_kwargs\": null\n",
      "          },\n",
      "          \"num_batches\": 1\n",
      "        }\n",
      "      }\n",
      "    },\n",
      "    {\n",
      "      \"expectation_type\": \"expect_column_mean_to_be_between\",\n",
      "      \"kwargs\": {\n",
      "        \"strict_min\": false,\n",
      "        \"column\": \"Temperatura rosisca (2m)\",\n",
      "        \"strict_max\": false,\n",
      "        \"min_value\": 18.28333333333333,\n",
      "        \"max_value\": 18.28333333333333\n",
      "      },\n",
      "      \"meta\": {\n",
      "        \"profiler_details\": {\n",
      "          \"metric_configuration\": {\n",
      "            \"metric_name\": \"column.mean\",\n",
      "            \"domain_kwargs\": {\n",
      "              \"column\": \"Temperatura rosisca (2m)\"\n",
      "            },\n",
      "            \"metric_value_kwargs\": null\n",
      "          },\n",
      "          \"num_batches\": 1\n",
      "        }\n",
      "      }\n",
      "    },\n",
      "    {\n",
      "      \"expectation_type\": \"expect_column_stdev_to_be_between\",\n",
      "      \"kwargs\": {\n",
      "        \"strict_min\": false,\n",
      "        \"column\": \"Temperatura rosisca (2m)\",\n",
      "        \"strict_max\": false,\n",
      "        \"min_value\": 0.24013884872437177,\n",
      "        \"max_value\": 0.24013884872437177\n",
      "      },\n",
      "      \"meta\": {\n",
      "        \"profiler_details\": {\n",
      "          \"metric_configuration\": {\n",
      "            \"metric_name\": \"column.standard_deviation\",\n",
      "            \"domain_kwargs\": {\n",
      "              \"column\": \"Temperatura rosisca (2m)\"\n",
      "            },\n",
      "            \"metric_value_kwargs\": null\n",
      "          },\n",
      "          \"num_batches\": 1\n",
      "        }\n",
      "      }\n",
      "    },\n",
      "    {\n",
      "      \"expectation_type\": \"expect_column_min_to_be_between\",\n",
      "      \"kwargs\": {\n",
      "        \"strict_min\": false,\n",
      "        \"column\": \"Average speed\",\n",
      "        \"strict_max\": false,\n",
      "        \"min_value\": 12,\n",
      "        \"max_value\": 12\n",
      "      },\n",
      "      \"meta\": {\n",
      "        \"profiler_details\": {\n",
      "          \"metric_configuration\": {\n",
      "            \"metric_name\": \"column.min\",\n",
      "            \"domain_kwargs\": {\n",
      "              \"column\": \"Average speed\"\n",
      "            },\n",
      "            \"metric_value_kwargs\": null\n",
      "          },\n",
      "          \"num_batches\": 1\n",
      "        }\n",
      "      }\n",
      "    },\n",
      "    {\n",
      "      \"expectation_type\": \"expect_column_max_to_be_between\",\n",
      "      \"kwargs\": {\n",
      "        \"strict_min\": false,\n",
      "        \"column\": \"Average speed\",\n",
      "        \"strict_max\": false,\n",
      "        \"min_value\": 21,\n",
      "        \"max_value\": 21\n",
      "      },\n",
      "      \"meta\": {\n",
      "        \"profiler_details\": {\n",
      "          \"metric_configuration\": {\n",
      "            \"metric_name\": \"column.max\",\n",
      "            \"domain_kwargs\": {\n",
      "              \"column\": \"Average speed\"\n",
      "            },\n",
      "            \"metric_value_kwargs\": null\n",
      "          },\n",
      "          \"num_batches\": 1\n",
      "        }\n",
      "      }\n",
      "    },\n",
      "    {\n",
      "      \"expectation_type\": \"expect_column_values_to_be_between\",\n",
      "      \"kwargs\": {\n",
      "        \"strict_min\": false,\n",
      "        \"column\": \"Average speed\",\n",
      "        \"strict_max\": false,\n",
      "        \"min_value\": 12,\n",
      "        \"mostly\": 1.0,\n",
      "        \"max_value\": 21\n",
      "      },\n",
      "      \"meta\": {\n",
      "        \"profiler_details\": {\n",
      "          \"column_min_values_range_estimator\": {\n",
      "            \"metric_configuration\": {\n",
      "              \"metric_name\": \"column.min\",\n",
      "              \"domain_kwargs\": {\n",
      "                \"column\": \"Average speed\"\n",
      "              },\n",
      "              \"metric_value_kwargs\": null\n",
      "            },\n",
      "            \"num_batches\": 1\n",
      "          },\n",
      "          \"column_max_values_range_estimator\": {\n",
      "            \"metric_configuration\": {\n",
      "              \"metric_name\": \"column.max\",\n",
      "              \"domain_kwargs\": {\n",
      "                \"column\": \"Average speed\"\n",
      "              },\n",
      "              \"metric_value_kwargs\": null\n",
      "            },\n",
      "            \"num_batches\": 1\n",
      "          }\n",
      "        }\n",
      "      }\n",
      "    },\n",
      "    {\n",
      "      \"expectation_type\": \"expect_column_quantile_values_to_be_between\",\n",
      "      \"kwargs\": {\n",
      "        \"column\": \"Average speed\",\n",
      "        \"quantile_ranges\": {\n",
      "          \"quantiles\": [\n",
      "            0.25,\n",
      "            0.5,\n",
      "            0.75\n",
      "          ],\n",
      "          \"value_ranges\": [\n",
      "            [\n",
      "              12,\n",
      "              12\n",
      "            ],\n",
      "            [\n",
      "              13,\n",
      "              13\n",
      "            ],\n",
      "            [\n",
      "              21,\n",
      "              21\n",
      "            ]\n",
      "          ]\n",
      "        },\n",
      "        \"allow_relative_error\": false\n",
      "      },\n",
      "      \"meta\": {\n",
      "        \"profiler_details\": {\n",
      "          \"metric_configuration\": {\n",
      "            \"metric_name\": \"column.quantile_values\",\n",
      "            \"domain_kwargs\": {\n",
      "              \"column\": \"Average speed\"\n",
      "            },\n",
      "            \"metric_value_kwargs\": {\n",
      "              \"quantiles\": [\n",
      "                0.25,\n",
      "                0.5,\n",
      "                0.75\n",
      "              ],\n",
      "              \"allow_relative_error\": false\n",
      "            }\n",
      "          },\n",
      "          \"num_batches\": 1\n",
      "        }\n",
      "      }\n",
      "    },\n",
      "    {\n",
      "      \"expectation_type\": \"expect_column_median_to_be_between\",\n",
      "      \"kwargs\": {\n",
      "        \"strict_min\": false,\n",
      "        \"column\": \"Average speed\",\n",
      "        \"strict_max\": false,\n",
      "        \"min_value\": 17.0,\n",
      "        \"max_value\": 17.0\n",
      "      },\n",
      "      \"meta\": {\n",
      "        \"profiler_details\": {\n",
      "          \"metric_configuration\": {\n",
      "            \"metric_name\": \"column.median\",\n",
      "            \"domain_kwargs\": {\n",
      "              \"column\": \"Average speed\"\n",
      "            },\n",
      "            \"metric_value_kwargs\": null\n",
      "          },\n",
      "          \"num_batches\": 1\n",
      "        }\n",
      "      }\n",
      "    },\n",
      "    {\n",
      "      \"expectation_type\": \"expect_column_mean_to_be_between\",\n",
      "      \"kwargs\": {\n",
      "        \"strict_min\": false,\n",
      "        \"column\": \"Average speed\",\n",
      "        \"strict_max\": false,\n",
      "        \"min_value\": 16.666666666666668,\n",
      "        \"max_value\": 16.666666666666668\n",
      "      },\n",
      "      \"meta\": {\n",
      "        \"profiler_details\": {\n",
      "          \"metric_configuration\": {\n",
      "            \"metric_name\": \"column.mean\",\n",
      "            \"domain_kwargs\": {\n",
      "              \"column\": \"Average speed\"\n",
      "            },\n",
      "            \"metric_value_kwargs\": null\n",
      "          },\n",
      "          \"num_batches\": 1\n",
      "        }\n",
      "      }\n",
      "    },\n",
      "    {\n",
      "      \"expectation_type\": \"expect_column_stdev_to_be_between\",\n",
      "      \"kwargs\": {\n",
      "        \"strict_min\": false,\n",
      "        \"column\": \"Average speed\",\n",
      "        \"strict_max\": false,\n",
      "        \"min_value\": 4.760952285695233,\n",
      "        \"max_value\": 4.760952285695233\n",
      "      },\n",
      "      \"meta\": {\n",
      "        \"profiler_details\": {\n",
      "          \"metric_configuration\": {\n",
      "            \"metric_name\": \"column.standard_deviation\",\n",
      "            \"domain_kwargs\": {\n",
      "              \"column\": \"Average speed\"\n",
      "            },\n",
      "            \"metric_value_kwargs\": null\n",
      "          },\n",
      "          \"num_batches\": 1\n",
      "        }\n",
      "      }\n",
      "    },\n",
      "    {\n",
      "      \"expectation_type\": \"expect_column_min_to_be_between\",\n",
      "      \"kwargs\": {\n",
      "        \"strict_min\": false,\n",
      "        \"column\": \"Free flow speed\",\n",
      "        \"strict_max\": false,\n",
      "        \"min_value\": 20,\n",
      "        \"max_value\": 20\n",
      "      },\n",
      "      \"meta\": {\n",
      "        \"profiler_details\": {\n",
      "          \"metric_configuration\": {\n",
      "            \"metric_name\": \"column.min\",\n",
      "            \"domain_kwargs\": {\n",
      "              \"column\": \"Free flow speed\"\n",
      "            },\n",
      "            \"metric_value_kwargs\": null\n",
      "          },\n",
      "          \"num_batches\": 1\n",
      "        }\n",
      "      }\n",
      "    },\n",
      "    {\n",
      "      \"expectation_type\": \"expect_column_max_to_be_between\",\n",
      "      \"kwargs\": {\n",
      "        \"strict_min\": false,\n",
      "        \"column\": \"Free flow speed\",\n",
      "        \"strict_max\": false,\n",
      "        \"min_value\": 21,\n",
      "        \"max_value\": 21\n",
      "      },\n",
      "      \"meta\": {\n",
      "        \"profiler_details\": {\n",
      "          \"metric_configuration\": {\n",
      "            \"metric_name\": \"column.max\",\n",
      "            \"domain_kwargs\": {\n",
      "              \"column\": \"Free flow speed\"\n",
      "            },\n",
      "            \"metric_value_kwargs\": null\n",
      "          },\n",
      "          \"num_batches\": 1\n",
      "        }\n",
      "      }\n",
      "    },\n",
      "    {\n",
      "      \"expectation_type\": \"expect_column_values_to_be_between\",\n",
      "      \"kwargs\": {\n",
      "        \"strict_min\": false,\n",
      "        \"column\": \"Free flow speed\",\n",
      "        \"strict_max\": false,\n",
      "        \"min_value\": 20,\n",
      "        \"mostly\": 1.0,\n",
      "        \"max_value\": 21\n",
      "      },\n",
      "      \"meta\": {\n",
      "        \"profiler_details\": {\n",
      "          \"column_min_values_range_estimator\": {\n",
      "            \"metric_configuration\": {\n",
      "              \"metric_name\": \"column.min\",\n",
      "              \"domain_kwargs\": {\n",
      "                \"column\": \"Free flow speed\"\n",
      "              },\n",
      "              \"metric_value_kwargs\": null\n",
      "            },\n",
      "            \"num_batches\": 1\n",
      "          },\n",
      "          \"column_max_values_range_estimator\": {\n",
      "            \"metric_configuration\": {\n",
      "              \"metric_name\": \"column.max\",\n",
      "              \"domain_kwargs\": {\n",
      "                \"column\": \"Free flow speed\"\n",
      "              },\n",
      "              \"metric_value_kwargs\": null\n",
      "            },\n",
      "            \"num_batches\": 1\n",
      "          }\n",
      "        }\n",
      "      }\n",
      "    },\n",
      "    {\n",
      "      \"expectation_type\": \"expect_column_quantile_values_to_be_between\",\n",
      "      \"kwargs\": {\n",
      "        \"column\": \"Free flow speed\",\n",
      "        \"quantile_ranges\": {\n",
      "          \"quantiles\": [\n",
      "            0.25,\n",
      "            0.5,\n",
      "            0.75\n",
      "          ],\n",
      "          \"value_ranges\": [\n",
      "            [\n",
      "              21,\n",
      "              21\n",
      "            ],\n",
      "            [\n",
      "              21,\n",
      "              21\n",
      "            ],\n",
      "            [\n",
      "              21,\n",
      "              21\n",
      "            ]\n",
      "          ]\n",
      "        },\n",
      "        \"allow_relative_error\": false\n",
      "      },\n",
      "      \"meta\": {\n",
      "        \"profiler_details\": {\n",
      "          \"metric_configuration\": {\n",
      "            \"metric_name\": \"column.quantile_values\",\n",
      "            \"domain_kwargs\": {\n",
      "              \"column\": \"Free flow speed\"\n",
      "            },\n",
      "            \"metric_value_kwargs\": {\n",
      "              \"quantiles\": [\n",
      "                0.25,\n",
      "                0.5,\n",
      "                0.75\n",
      "              ],\n",
      "              \"allow_relative_error\": false\n",
      "            }\n",
      "          },\n",
      "          \"num_batches\": 1\n",
      "        }\n",
      "      }\n",
      "    },\n",
      "    {\n",
      "      \"expectation_type\": \"expect_column_median_to_be_between\",\n",
      "      \"kwargs\": {\n",
      "        \"strict_min\": false,\n",
      "        \"column\": \"Free flow speed\",\n",
      "        \"strict_max\": false,\n",
      "        \"min_value\": 21.0,\n",
      "        \"max_value\": 21.0\n",
      "      },\n",
      "      \"meta\": {\n",
      "        \"profiler_details\": {\n",
      "          \"metric_configuration\": {\n",
      "            \"metric_name\": \"column.median\",\n",
      "            \"domain_kwargs\": {\n",
      "              \"column\": \"Free flow speed\"\n",
      "            },\n",
      "            \"metric_value_kwargs\": null\n",
      "          },\n",
      "          \"num_batches\": 1\n",
      "        }\n",
      "      }\n",
      "    },\n",
      "    {\n",
      "      \"expectation_type\": \"expect_column_mean_to_be_between\",\n",
      "      \"kwargs\": {\n",
      "        \"strict_min\": false,\n",
      "        \"column\": \"Free flow speed\",\n",
      "        \"strict_max\": false,\n",
      "        \"min_value\": 20.833333333333332,\n",
      "        \"max_value\": 20.833333333333332\n",
      "      },\n",
      "      \"meta\": {\n",
      "        \"profiler_details\": {\n",
      "          \"metric_configuration\": {\n",
      "            \"metric_name\": \"column.mean\",\n",
      "            \"domain_kwargs\": {\n",
      "              \"column\": \"Free flow speed\"\n",
      "            },\n",
      "            \"metric_value_kwargs\": null\n",
      "          },\n",
      "          \"num_batches\": 1\n",
      "        }\n",
      "      }\n",
      "    },\n",
      "    {\n",
      "      \"expectation_type\": \"expect_column_stdev_to_be_between\",\n",
      "      \"kwargs\": {\n",
      "        \"strict_min\": false,\n",
      "        \"column\": \"Free flow speed\",\n",
      "        \"strict_max\": false,\n",
      "        \"min_value\": 0.40824829046386296,\n",
      "        \"max_value\": 0.40824829046386296\n",
      "      },\n",
      "      \"meta\": {\n",
      "        \"profiler_details\": {\n",
      "          \"metric_configuration\": {\n",
      "            \"metric_name\": \"column.standard_deviation\",\n",
      "            \"domain_kwargs\": {\n",
      "              \"column\": \"Free flow speed\"\n",
      "            },\n",
      "            \"metric_value_kwargs\": null\n",
      "          },\n",
      "          \"num_batches\": 1\n",
      "        }\n",
      "      }\n",
      "    },\n",
      "    {\n",
      "      \"expectation_type\": \"expect_column_values_to_be_in_set\",\n",
      "      \"kwargs\": {\n",
      "        \"column\": \"Temperatura (2m)\",\n",
      "        \"value_set\": [\n",
      "          19.0,\n",
      "          18.3,\n",
      "          18.4,\n",
      "          23.5\n",
      "        ],\n",
      "        \"mostly\": 1.0\n",
      "      },\n",
      "      \"meta\": {\n",
      "        \"profiler_details\": {\n",
      "          \"metric_configuration\": {\n",
      "            \"metric_name\": \"column.distinct_values\",\n",
      "            \"domain_kwargs\": {\n",
      "              \"column\": \"Temperatura (2m)\"\n",
      "            },\n",
      "            \"metric_value_kwargs\": null\n",
      "          },\n",
      "          \"num_batches\": 1,\n",
      "          \"parse_strings_as_datetimes\": false\n",
      "        }\n",
      "      }\n",
      "    },\n",
      "    {\n",
      "      \"expectation_type\": \"expect_column_unique_value_count_to_be_between\",\n",
      "      \"kwargs\": {\n",
      "        \"strict_min\": false,\n",
      "        \"column\": \"Temperatura (2m)\",\n",
      "        \"strict_max\": false,\n",
      "        \"min_value\": 4,\n",
      "        \"max_value\": 4\n",
      "      },\n",
      "      \"meta\": {\n",
      "        \"profiler_details\": {\n",
      "          \"metric_configuration\": {\n",
      "            \"metric_name\": \"column.distinct_values.count\",\n",
      "            \"domain_kwargs\": {\n",
      "              \"column\": \"Temperatura (2m)\"\n",
      "            },\n",
      "            \"metric_value_kwargs\": null\n",
      "          },\n",
      "          \"num_batches\": 1\n",
      "        }\n",
      "      }\n",
      "    },\n",
      "    {\n",
      "      \"expectation_type\": \"expect_column_proportion_of_unique_values_to_be_between\",\n",
      "      \"kwargs\": {\n",
      "        \"strict_min\": false,\n",
      "        \"column\": \"Temperatura (2m)\",\n",
      "        \"strict_max\": false,\n",
      "        \"min_value\": 0.6666666666666666,\n",
      "        \"max_value\": 0.6666666666666666\n",
      "      },\n",
      "      \"meta\": {\n",
      "        \"profiler_details\": {\n",
      "          \"metric_configuration\": {\n",
      "            \"metric_name\": \"column.unique_proportion\",\n",
      "            \"domain_kwargs\": {\n",
      "              \"column\": \"Temperatura (2m)\"\n",
      "            },\n",
      "            \"metric_value_kwargs\": null\n",
      "          },\n",
      "          \"num_batches\": 1\n",
      "        }\n",
      "      }\n",
      "    },\n",
      "    {\n",
      "      \"expectation_type\": \"expect_column_values_to_be_in_set\",\n",
      "      \"kwargs\": {\n",
      "        \"column\": \"Relativna vlaga (2m)\",\n",
      "        \"value_set\": [\n",
      "          74,\n",
      "          100,\n",
      "          94\n",
      "        ],\n",
      "        \"mostly\": 1.0\n",
      "      },\n",
      "      \"meta\": {\n",
      "        \"profiler_details\": {\n",
      "          \"metric_configuration\": {\n",
      "            \"metric_name\": \"column.distinct_values\",\n",
      "            \"domain_kwargs\": {\n",
      "              \"column\": \"Relativna vlaga (2m)\"\n",
      "            },\n",
      "            \"metric_value_kwargs\": null\n",
      "          },\n",
      "          \"num_batches\": 1,\n",
      "          \"parse_strings_as_datetimes\": false\n",
      "        }\n",
      "      }\n",
      "    },\n",
      "    {\n",
      "      \"expectation_type\": \"expect_column_unique_value_count_to_be_between\",\n",
      "      \"kwargs\": {\n",
      "        \"strict_min\": false,\n",
      "        \"column\": \"Relativna vlaga (2m)\",\n",
      "        \"strict_max\": false,\n",
      "        \"min_value\": 3,\n",
      "        \"max_value\": 3\n",
      "      },\n",
      "      \"meta\": {\n",
      "        \"profiler_details\": {\n",
      "          \"metric_configuration\": {\n",
      "            \"metric_name\": \"column.distinct_values.count\",\n",
      "            \"domain_kwargs\": {\n",
      "              \"column\": \"Relativna vlaga (2m)\"\n",
      "            },\n",
      "            \"metric_value_kwargs\": null\n",
      "          },\n",
      "          \"num_batches\": 1\n",
      "        }\n",
      "      }\n",
      "    },\n",
      "    {\n",
      "      \"expectation_type\": \"expect_column_proportion_of_unique_values_to_be_between\",\n",
      "      \"kwargs\": {\n",
      "        \"strict_min\": false,\n",
      "        \"column\": \"Relativna vlaga (2m)\",\n",
      "        \"strict_max\": false,\n",
      "        \"min_value\": 0.5,\n",
      "        \"max_value\": 0.5\n",
      "      },\n",
      "      \"meta\": {\n",
      "        \"profiler_details\": {\n",
      "          \"metric_configuration\": {\n",
      "            \"metric_name\": \"column.unique_proportion\",\n",
      "            \"domain_kwargs\": {\n",
      "              \"column\": \"Relativna vlaga (2m)\"\n",
      "            },\n",
      "            \"metric_value_kwargs\": null\n",
      "          },\n",
      "          \"num_batches\": 1\n",
      "        }\n",
      "      }\n",
      "    },\n",
      "    {\n",
      "      \"expectation_type\": \"expect_column_values_to_be_in_set\",\n",
      "      \"kwargs\": {\n",
      "        \"column\": \"Temperatura rosisca (2m)\",\n",
      "        \"value_set\": [\n",
      "          18.4,\n",
      "          18.0,\n",
      "          18.3,\n",
      "          18.6\n",
      "        ],\n",
      "        \"mostly\": 1.0\n",
      "      },\n",
      "      \"meta\": {\n",
      "        \"profiler_details\": {\n",
      "          \"metric_configuration\": {\n",
      "            \"metric_name\": \"column.distinct_values\",\n",
      "            \"domain_kwargs\": {\n",
      "              \"column\": \"Temperatura rosisca (2m)\"\n",
      "            },\n",
      "            \"metric_value_kwargs\": null\n",
      "          },\n",
      "          \"num_batches\": 1,\n",
      "          \"parse_strings_as_datetimes\": false\n",
      "        }\n",
      "      }\n",
      "    },\n",
      "    {\n",
      "      \"expectation_type\": \"expect_column_unique_value_count_to_be_between\",\n",
      "      \"kwargs\": {\n",
      "        \"strict_min\": false,\n",
      "        \"column\": \"Temperatura rosisca (2m)\",\n",
      "        \"strict_max\": false,\n",
      "        \"min_value\": 4,\n",
      "        \"max_value\": 4\n",
      "      },\n",
      "      \"meta\": {\n",
      "        \"profiler_details\": {\n",
      "          \"metric_configuration\": {\n",
      "            \"metric_name\": \"column.distinct_values.count\",\n",
      "            \"domain_kwargs\": {\n",
      "              \"column\": \"Temperatura rosisca (2m)\"\n",
      "            },\n",
      "            \"metric_value_kwargs\": null\n",
      "          },\n",
      "          \"num_batches\": 1\n",
      "        }\n",
      "      }\n",
      "    },\n",
      "    {\n",
      "      \"expectation_type\": \"expect_column_proportion_of_unique_values_to_be_between\",\n",
      "      \"kwargs\": {\n",
      "        \"strict_min\": false,\n",
      "        \"column\": \"Temperatura rosisca (2m)\",\n",
      "        \"strict_max\": false,\n",
      "        \"min_value\": 0.6666666666666666,\n",
      "        \"max_value\": 0.6666666666666666\n",
      "      },\n",
      "      \"meta\": {\n",
      "        \"profiler_details\": {\n",
      "          \"metric_configuration\": {\n",
      "            \"metric_name\": \"column.unique_proportion\",\n",
      "            \"domain_kwargs\": {\n",
      "              \"column\": \"Temperatura rosisca (2m)\"\n",
      "            },\n",
      "            \"metric_value_kwargs\": null\n",
      "          },\n",
      "          \"num_batches\": 1\n",
      "        }\n",
      "      }\n",
      "    },\n",
      "    {\n",
      "      \"expectation_type\": \"expect_column_values_to_be_in_set\",\n",
      "      \"kwargs\": {\n",
      "        \"column\": \"Average speed\",\n",
      "        \"value_set\": [\n",
      "          21,\n",
      "          12,\n",
      "          13\n",
      "        ],\n",
      "        \"mostly\": 1.0\n",
      "      },\n",
      "      \"meta\": {\n",
      "        \"profiler_details\": {\n",
      "          \"metric_configuration\": {\n",
      "            \"metric_name\": \"column.distinct_values\",\n",
      "            \"domain_kwargs\": {\n",
      "              \"column\": \"Average speed\"\n",
      "            },\n",
      "            \"metric_value_kwargs\": null\n",
      "          },\n",
      "          \"num_batches\": 1,\n",
      "          \"parse_strings_as_datetimes\": false\n",
      "        }\n",
      "      }\n",
      "    },\n",
      "    {\n",
      "      \"expectation_type\": \"expect_column_unique_value_count_to_be_between\",\n",
      "      \"kwargs\": {\n",
      "        \"strict_min\": false,\n",
      "        \"column\": \"Average speed\",\n",
      "        \"strict_max\": false,\n",
      "        \"min_value\": 3,\n",
      "        \"max_value\": 3\n",
      "      },\n",
      "      \"meta\": {\n",
      "        \"profiler_details\": {\n",
      "          \"metric_configuration\": {\n",
      "            \"metric_name\": \"column.distinct_values.count\",\n",
      "            \"domain_kwargs\": {\n",
      "              \"column\": \"Average speed\"\n",
      "            },\n",
      "            \"metric_value_kwargs\": null\n",
      "          },\n",
      "          \"num_batches\": 1\n",
      "        }\n",
      "      }\n",
      "    },\n",
      "    {\n",
      "      \"expectation_type\": \"expect_column_proportion_of_unique_values_to_be_between\",\n",
      "      \"kwargs\": {\n",
      "        \"strict_min\": false,\n",
      "        \"column\": \"Average speed\",\n",
      "        \"strict_max\": false,\n",
      "        \"min_value\": 0.5,\n",
      "        \"max_value\": 0.5\n",
      "      },\n",
      "      \"meta\": {\n",
      "        \"profiler_details\": {\n",
      "          \"metric_configuration\": {\n",
      "            \"metric_name\": \"column.unique_proportion\",\n",
      "            \"domain_kwargs\": {\n",
      "              \"column\": \"Average speed\"\n",
      "            },\n",
      "            \"metric_value_kwargs\": null\n",
      "          },\n",
      "          \"num_batches\": 1\n",
      "        }\n",
      "      }\n",
      "    },\n",
      "    {\n",
      "      \"expectation_type\": \"expect_column_values_to_be_in_set\",\n",
      "      \"kwargs\": {\n",
      "        \"column\": \"Free flow speed\",\n",
      "        \"value_set\": [\n",
      "          20,\n",
      "          21\n",
      "        ],\n",
      "        \"mostly\": 1.0\n",
      "      },\n",
      "      \"meta\": {\n",
      "        \"profiler_details\": {\n",
      "          \"metric_configuration\": {\n",
      "            \"metric_name\": \"column.distinct_values\",\n",
      "            \"domain_kwargs\": {\n",
      "              \"column\": \"Free flow speed\"\n",
      "            },\n",
      "            \"metric_value_kwargs\": null\n",
      "          },\n",
      "          \"num_batches\": 1,\n",
      "          \"parse_strings_as_datetimes\": false\n",
      "        }\n",
      "      }\n",
      "    },\n",
      "    {\n",
      "      \"expectation_type\": \"expect_column_unique_value_count_to_be_between\",\n",
      "      \"kwargs\": {\n",
      "        \"strict_min\": false,\n",
      "        \"column\": \"Free flow speed\",\n",
      "        \"strict_max\": false,\n",
      "        \"min_value\": 2,\n",
      "        \"max_value\": 2\n",
      "      },\n",
      "      \"meta\": {\n",
      "        \"profiler_details\": {\n",
      "          \"metric_configuration\": {\n",
      "            \"metric_name\": \"column.distinct_values.count\",\n",
      "            \"domain_kwargs\": {\n",
      "              \"column\": \"Free flow speed\"\n",
      "            },\n",
      "            \"metric_value_kwargs\": null\n",
      "          },\n",
      "          \"num_batches\": 1\n",
      "        }\n",
      "      }\n",
      "    },\n",
      "    {\n",
      "      \"expectation_type\": \"expect_column_proportion_of_unique_values_to_be_between\",\n",
      "      \"kwargs\": {\n",
      "        \"strict_min\": false,\n",
      "        \"column\": \"Free flow speed\",\n",
      "        \"strict_max\": false,\n",
      "        \"min_value\": 0.3333333333333333,\n",
      "        \"max_value\": 0.3333333333333333\n",
      "      },\n",
      "      \"meta\": {\n",
      "        \"profiler_details\": {\n",
      "          \"metric_configuration\": {\n",
      "            \"metric_name\": \"column.unique_proportion\",\n",
      "            \"domain_kwargs\": {\n",
      "              \"column\": \"Free flow speed\"\n",
      "            },\n",
      "            \"metric_value_kwargs\": null\n",
      "          },\n",
      "          \"num_batches\": 1\n",
      "        }\n",
      "      }\n",
      "    }\n",
      "  ],\n",
      "  \"data_asset_type\": null,\n",
      "  \"meta\": {\n",
      "    \"great_expectations_version\": \"0.18.14\",\n",
      "    \"citations\": [\n",
      "      {\n",
      "        \"citation_date\": \"2024-05-28T07:48:44.859055Z\",\n",
      "        \"comment\": \"Created by effective Rule-Based Profiler of OnboardingDataAssistant with the configuration included.\\n\"\n",
      "      }\n",
      "    ]\n",
      "  }\n",
      "}\n",
      "2024-05-28T09:48:51+0200 - INFO - \t57 expectation(s) included in expectation_suite.\n",
      "2024-05-28T09:48:51+0200 - INFO - \t57 expectation(s) included in expectation_suite.\n"
     ]
    },
    {
     "data": {
      "application/vnd.jupyter.widget-view+json": {
       "model_id": "d0048baf6f79494ba7eb3492f989c033",
       "version_major": 2,
       "version_minor": 0
      },
      "text/plain": [
       "Calculating Metrics:   0%|          | 0/118 [00:00<?, ?it/s]"
      ]
     },
     "metadata": {},
     "output_type": "display_data"
    }
   ],
   "source": [
    "print(validator.get_expectation_suite(discard_failed_expectations=False))\n",
    "validator.save_expectation_suite(discard_failed_expectations=False)\n",
    "\n",
    "checkpoint_config = {\n",
    "    \"class_name\": \"SimpleCheckpoint\",\n",
    "    \"validations\": [\n",
    "        {\n",
    "            \"batch_request\": batch_request,\n",
    "            \"expectation_suite_name\": expectation_suite_name,\n",
    "        }\n",
    "    ],\n",
    "}\n",
    "checkpoint = SimpleCheckpoint(\n",
    "    f\"{validator.active_batch_definition.data_asset_name}_{expectation_suite_name}\",\n",
    "    context,\n",
    "    **checkpoint_config,\n",
    ")\n",
    "checkpoint_result = checkpoint.run()\n",
    "\n",
    "context.build_data_docs()\n",
    "\n",
    "validation_result_identifier = checkpoint_result.list_validation_result_identifiers()[0]\n",
    "context.open_data_docs(resource_identifier=validation_result_identifier)"
   ]
  },
  {
   "cell_type": "markdown",
   "id": "0b39c602",
   "metadata": {},
   "source": [
    "## Next steps\n",
    "After you review this initial Expectation Suite in Data Docs you\n",
    "should edit this suite to make finer grained adjustments to the expectations.\n",
    "This can be done by running `great_expectations suite edit MojSuite`."
   ]
  },
  {
   "cell_type": "code",
   "execution_count": null,
   "id": "450b8679-b4f8-4fae-9945-a40fc2c142a9",
   "metadata": {},
   "outputs": [],
   "source": []
  }
 ],
 "metadata": {
  "kernelspec": {
   "display_name": "Python 3 (ipykernel)",
   "language": "python",
   "name": "python3"
  },
  "language_info": {
   "codemirror_mode": {
    "name": "ipython",
    "version": 3
   },
   "file_extension": ".py",
   "mimetype": "text/x-python",
   "name": "python",
   "nbconvert_exporter": "python",
   "pygments_lexer": "ipython3",
   "version": "3.9.19"
  }
 },
 "nbformat": 4,
 "nbformat_minor": 5
}
