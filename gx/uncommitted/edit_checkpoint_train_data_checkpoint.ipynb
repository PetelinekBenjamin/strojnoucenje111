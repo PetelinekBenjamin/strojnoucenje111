{
 "cells": [
  {
   "cell_type": "markdown",
   "id": "0d4095d8",
   "metadata": {},
   "source": [
    "# Create Your Checkpoint\n",
    "Use this notebook to configure a new Checkpoint and add it to your project:\n",
    "\n",
    "**Checkpoint Name**: `train_data_checkpoint`"
   ]
  },
  {
   "cell_type": "code",
   "execution_count": 12,
   "id": "62d28d77",
   "metadata": {},
   "outputs": [],
   "source": [
    "from ruamel.yaml import YAML\n",
    "import great_expectations as gx\n",
    "from pprint import pprint\n",
    "\n",
    "yaml = YAML()\n",
    "context = gx.get_context()"
   ]
  },
  {
   "cell_type": "markdown",
   "id": "c30ec0f0",
   "metadata": {},
   "source": [
    "# Create a Checkpoint Configuration\n",
    "\n",
    "**If you are new to Great Expectations or the Checkpoint feature**, you should start with SimpleCheckpoint because it includes default configurations like a default list of post validation actions.\n",
    "\n",
    "In the cell below we have created a sample Checkpoint configuration using **your configuration** and **SimpleCheckpoint** to run a single validation of a single Expectation Suite against a single Batch of data.\n",
    "\n",
    "To keep it simple, we are just choosing the first available instance of each of the following items you have configured in your Data Context:\n",
    "* Datasource\n",
    "* DataConnector\n",
    "* DataAsset\n",
    "* Partition\n",
    "* Expectation Suite\n",
    "\n",
    "Of course this is purely an example, you may edit this to your heart's content.\n",
    "\n",
    "**My configuration is not so simple - are there more advanced options?**\n",
    "\n",
    "Glad you asked! Checkpoints are very versatile. For example, you can validate many Batches in a single Checkpoint, validate Batches against different Expectation Suites or against many Expectation Suites, control the specific post-validation actions based on Expectation Suite / Batch / results of validation among other features. Check out our documentation on Checkpoints for more details and for instructions on how to implement other more advanced features including using the **Checkpoint** class:\n",
    "- https://docs.greatexpectations.io/docs/reference/checkpoints_and_actions\n",
    "- https://docs.greatexpectations.io/docs/guides/validation/checkpoints/how_to_create_a_new_checkpoint\n",
    "- https://docs.greatexpectations.io/docs/guides/validation/checkpoints/how_to_configure_a_new_checkpoint_using_test_yaml_config"
   ]
  },
  {
   "cell_type": "code",
   "execution_count": 13,
   "id": "78d6047f",
   "metadata": {},
   "outputs": [
    {
     "name": "stdout",
     "output_type": "stream",
     "text": [
      "\n",
      "name: train_data_checkpoint\n",
      "config_version: 1.0\n",
      "class_name: SimpleCheckpoint\n",
      "run_name_template: \"%Y%m%d-%H%M%S-my-run-name-template\"\n",
      "validations:\n",
      "  - batch_request:\n",
      "      datasource_name: GOSPOSVETSKA C - TURNERJEVA UL.csv\n",
      "      data_connector_name: default_inferred_data_connector_name\n",
      "      data_asset_name: .gitignore\n",
      "      data_connector_query:\n",
      "        index: -1\n",
      "    expectation_suite_name: mojDataset\n",
      "\n"
     ]
    }
   ],
   "source": [
    "my_checkpoint_name = \"train_data_checkpoint\" # This was populated from your CLI command.\n",
    "\n",
    "yaml_config = f\"\"\"\n",
    "name: {my_checkpoint_name}\n",
    "config_version: 1.0\n",
    "class_name: SimpleCheckpoint\n",
    "run_name_template: \"%Y%m%d-%H%M%S-my-run-name-template\"\n",
    "validations:\n",
    "  - batch_request:\n",
    "      datasource_name: GOSPOSVETSKA C - TURNERJEVA UL.csv\n",
    "      data_connector_name: default_inferred_data_connector_name\n",
    "      data_asset_name: .gitignore\n",
    "      data_connector_query:\n",
    "        index: -1\n",
    "    expectation_suite_name: mojDataset\n",
    "\"\"\"\n",
    "print(yaml_config)"
   ]
  },
  {
   "cell_type": "markdown",
   "id": "8f0130f8",
   "metadata": {},
   "source": [
    "# Customize Your Configuration\n",
    "The following cells show examples for listing your current configuration. You can replace values in the sample configuration with these values to customize your Checkpoint."
   ]
  },
  {
   "cell_type": "code",
   "execution_count": 14,
   "id": "a5ac1401",
   "metadata": {},
   "outputs": [
    {
     "name": "stdout",
     "output_type": "stream",
     "text": [
      "{'GOSPOSVETSKA C - TURNERJEVA UL.csv': {'default_inferred_data_connector_name': ['europark_-_pobreška_c..csv',\n",
      "                                                                                 'GOSPOSVETSKA '\n",
      "                                                                                 'C '\n",
      "                                                                                 '- '\n",
      "                                                                                 'TURNERJEVA '\n",
      "                                                                                 'UL.csv.dvc',\n",
      "                                                                                 'nicehash_-_c._proletarskih_brigad.csv',\n",
      "                                                                                 'ulica_moše_pijada_-_ukc.csv',\n",
      "                                                                                 'GOSPOSVETSKA '\n",
      "                                                                                 'C '\n",
      "                                                                                 '- '\n",
      "                                                                                 'TURNERJEVA '\n",
      "                                                                                 'UL.csv',\n",
      "                                                                                 'partizanska_c._-_cankarjeva_ul..csv',\n",
      "                                                                                 'dvorana_tabor.csv',\n",
      "                                                                                 'um_fgpa_-_lent_-_sodni_stolp.csv',\n",
      "                                                                                 'jhmb_–_dvoetažni_most.csv',\n",
      "                                                                                 'na_poljanah_-_heroja_šercerja.csv',\n",
      "                                                                                 'gosposvetska_c._-_turnerjeva_ul..csv',\n",
      "                                                                                 'partizanska_c._-_železniška_postaja.csv',\n",
      "                                                                                 'telemach_-_glavni_trg_-_stari_peron.csv',\n",
      "                                                                                 'strossmayerjeva_ul._-_tržnica.csv',\n",
      "                                                                                 'partizanska_c._-_tic.csv',\n",
      "                                                                                 'pošta_-_slomškov_trg.csv',\n",
      "                                                                                 'ljubljanska_ul._-_focheva.csv',\n",
      "                                                                                 'mlinska_ul_._-_avtobusna_postaja.csv',\n",
      "                                                                                 'nkbm_-_trg_leona_štuklja.csv',\n",
      "                                                                                 'gosposvetska_c._-_iii._gimnazija.csv',\n",
      "                                                                                 'vzajemna,_varuh_zdravja_-_betnavska_c..csv',\n",
      "                                                                                 '.gitignore',\n",
      "                                                                                 'mladinska_ul._-_trubarjeva_ul..csv',\n",
      "                                                                                 'ljubljanska_ul._-_ii._gimnazija.csv',\n",
      "                                                                                 'razlagova_ul._-_občina.csv',\n",
      "                                                                                 'reference_data.csv',\n",
      "                                                                                 'gosposvetska_c._-_vrbanska_c..csv',\n",
      "                                                                                 'petrol_–_lent_–_vodni_stolp.csv',\n",
      "                                                                                 'lidl_-_koroška_c..csv',\n",
      "                                                                                 'koroška_c._-_koroški_veter.csv',\n",
      "                                                                                 'lidl_-_titova_c..csv',\n",
      "                                                                                 'gorkega_ul._-_oš_franceta_prešerna.csv',\n",
      "                                                                                 'spar_-_tržnica_tabor.csv'],\n",
      "                                        'default_runtime_data_connector_name': ['my_runtime_asset_name']},\n",
      " 'my_datasource': {'default_inferred_data_connector_name': ['europark_-_pobreška_c..csv',\n",
      "                                                            'GOSPOSVETSKA C - '\n",
      "                                                            'TURNERJEVA '\n",
      "                                                            'UL.csv.dvc',\n",
      "                                                            'nicehash_-_c._proletarskih_brigad.csv',\n",
      "                                                            'ulica_moše_pijada_-_ukc.csv',\n",
      "                                                            'GOSPOSVETSKA C - '\n",
      "                                                            'TURNERJEVA UL.csv',\n",
      "                                                            'partizanska_c._-_cankarjeva_ul..csv',\n",
      "                                                            'dvorana_tabor.csv',\n",
      "                                                            'um_fgpa_-_lent_-_sodni_stolp.csv',\n",
      "                                                            'jhmb_–_dvoetažni_most.csv',\n",
      "                                                            'na_poljanah_-_heroja_šercerja.csv',\n",
      "                                                            'gosposvetska_c._-_turnerjeva_ul..csv',\n",
      "                                                            'partizanska_c._-_železniška_postaja.csv',\n",
      "                                                            'telemach_-_glavni_trg_-_stari_peron.csv',\n",
      "                                                            'strossmayerjeva_ul._-_tržnica.csv',\n",
      "                                                            'partizanska_c._-_tic.csv',\n",
      "                                                            'pošta_-_slomškov_trg.csv',\n",
      "                                                            'ljubljanska_ul._-_focheva.csv',\n",
      "                                                            'mlinska_ul_._-_avtobusna_postaja.csv',\n",
      "                                                            'nkbm_-_trg_leona_štuklja.csv',\n",
      "                                                            'gosposvetska_c._-_iii._gimnazija.csv',\n",
      "                                                            'vzajemna,_varuh_zdravja_-_betnavska_c..csv',\n",
      "                                                            '.gitignore',\n",
      "                                                            'mladinska_ul._-_trubarjeva_ul..csv',\n",
      "                                                            'ljubljanska_ul._-_ii._gimnazija.csv',\n",
      "                                                            'razlagova_ul._-_občina.csv',\n",
      "                                                            'reference_data.csv',\n",
      "                                                            'gosposvetska_c._-_vrbanska_c..csv',\n",
      "                                                            'petrol_–_lent_–_vodni_stolp.csv',\n",
      "                                                            'lidl_-_koroška_c..csv',\n",
      "                                                            'koroška_c._-_koroški_veter.csv',\n",
      "                                                            'lidl_-_titova_c..csv',\n",
      "                                                            'gorkega_ul._-_oš_franceta_prešerna.csv',\n",
      "                                                            'spar_-_tržnica_tabor.csv'],\n",
      "                   'default_runtime_data_connector_name': ['my_runtime_asset_name']}}\n"
     ]
    }
   ],
   "source": [
    "# Run this cell to print out the names of your Datasources, Data Connectors and Data Assets\n",
    "pprint(context.get_available_data_asset_names())"
   ]
  },
  {
   "cell_type": "code",
   "execution_count": 15,
   "id": "434993e5",
   "metadata": {},
   "outputs": [
    {
     "data": {
      "text/plain": [
       "['mojDataset']"
      ]
     },
     "execution_count": 15,
     "metadata": {},
     "output_type": "execute_result"
    }
   ],
   "source": [
    "context.list_expectation_suite_names()"
   ]
  },
  {
   "cell_type": "markdown",
   "id": "c5341c10",
   "metadata": {},
   "source": [
    "# Test Your Checkpoint Configuration\n",
    "Here we will test your Checkpoint configuration to make sure it is valid.\n",
    "\n",
    "This `test_yaml_config()` function is meant to enable fast dev loops. If your configuration is correct, this cell will show a message that you successfully instantiated a Checkpoint. You can continually edit your Checkpoint config yaml and re-run the cell to check until the new config is valid.\n",
    "\n",
    "If you instead wish to use python instead of yaml to configure your Checkpoint, you can use `context.add_checkpoint()` and specify all the required parameters."
   ]
  },
  {
   "cell_type": "code",
   "execution_count": 16,
   "id": "26aef428",
   "metadata": {},
   "outputs": [
    {
     "name": "stdout",
     "output_type": "stream",
     "text": [
      "Attempting to instantiate class from config...\n",
      "\tInstantiating as a SimpleCheckpoint, since class_name is SimpleCheckpoint\n",
      "\tSuccessfully instantiated SimpleCheckpoint\n",
      "\n",
      "\n",
      "Checkpoint class name: SimpleCheckpoint\n"
     ]
    }
   ],
   "source": [
    "my_checkpoint = context.test_yaml_config(yaml_config=yaml_config)"
   ]
  },
  {
   "cell_type": "markdown",
   "id": "2f2c9b05",
   "metadata": {},
   "source": [
    "# Review Your Checkpoint\n",
    "\n",
    "You can run the following cell to print out the full yaml configuration. For example, if you used **SimpleCheckpoint**  this will show you the default action list."
   ]
  },
  {
   "cell_type": "code",
   "execution_count": 17,
   "id": "58aab359",
   "metadata": {},
   "outputs": [
    {
     "name": "stdout",
     "output_type": "stream",
     "text": [
      "name: train_data_checkpoint\n",
      "config_version: 1.0\n",
      "template_name:\n",
      "module_name: great_expectations.checkpoint\n",
      "class_name: SimpleCheckpoint\n",
      "run_name_template: '%Y%m%d-%H%M%S-my-run-name-template'\n",
      "expectation_suite_name:\n",
      "batch_request: {}\n",
      "action_list:\n",
      "  - name: store_validation_result\n",
      "    action:\n",
      "      class_name: StoreValidationResultAction\n",
      "  - name: store_evaluation_params\n",
      "    action:\n",
      "      class_name: StoreEvaluationParametersAction\n",
      "  - name: update_data_docs\n",
      "    action:\n",
      "      class_name: UpdateDataDocsAction\n",
      "evaluation_parameters: {}\n",
      "runtime_configuration: {}\n",
      "validations:\n",
      "  - batch_request:\n",
      "      datasource_name: GOSPOSVETSKA C - TURNERJEVA UL.csv\n",
      "      data_connector_name: default_inferred_data_connector_name\n",
      "      data_asset_name: .gitignore\n",
      "      data_connector_query:\n",
      "        index: -1\n",
      "    expectation_suite_name: mojDataset\n",
      "profilers: []\n",
      "ge_cloud_id:\n",
      "expectation_suite_ge_cloud_id:\n",
      "\n"
     ]
    }
   ],
   "source": [
    "print(my_checkpoint.get_config(mode=\"yaml\"))"
   ]
  },
  {
   "cell_type": "markdown",
   "id": "374065b8",
   "metadata": {},
   "source": [
    "# Add Your Checkpoint\n",
    "\n",
    "Run the following cell to save this Checkpoint to your Checkpoint Store."
   ]
  },
  {
   "cell_type": "code",
   "execution_count": 18,
   "id": "ede81d09",
   "metadata": {},
   "outputs": [
    {
     "ename": "CheckpointError",
     "evalue": "A Checkpoint named train_data_checkpoint already exists.",
     "output_type": "error",
     "traceback": [
      "\u001b[1;31m---------------------------------------------------------------------------\u001b[0m",
      "\u001b[1;31mStoreBackendError\u001b[0m                         Traceback (most recent call last)",
      "File \u001b[1;32m~\\anaconda3\\envs\\ML1\\lib\\site-packages\\great_expectations\\data_context\\store\\checkpoint_store.py:183\u001b[0m, in \u001b[0;36mCheckpointStore.add_checkpoint\u001b[1;34m(self, checkpoint)\u001b[0m\n\u001b[0;32m    182\u001b[0m \u001b[38;5;28;01mtry\u001b[39;00m:\n\u001b[1;32m--> 183\u001b[0m     \u001b[38;5;28;01mreturn\u001b[39;00m \u001b[38;5;28;43mself\u001b[39;49m\u001b[38;5;241;43m.\u001b[39;49m\u001b[43m_persist_checkpoint\u001b[49m\u001b[43m(\u001b[49m\n\u001b[0;32m    184\u001b[0m \u001b[43m        \u001b[49m\u001b[43mkey\u001b[49m\u001b[38;5;241;43m=\u001b[39;49m\u001b[43mkey\u001b[49m\u001b[43m,\u001b[49m\u001b[43m \u001b[49m\u001b[43mcheckpoint\u001b[49m\u001b[38;5;241;43m=\u001b[39;49m\u001b[43mcheckpoint\u001b[49m\u001b[43m,\u001b[49m\u001b[43m \u001b[49m\u001b[43mpersistence_fn\u001b[49m\u001b[38;5;241;43m=\u001b[39;49m\u001b[38;5;28;43mself\u001b[39;49m\u001b[38;5;241;43m.\u001b[39;49m\u001b[43madd\u001b[49m\n\u001b[0;32m    185\u001b[0m \u001b[43m    \u001b[49m\u001b[43m)\u001b[49m\n\u001b[0;32m    186\u001b[0m \u001b[38;5;28;01mexcept\u001b[39;00m gx_exceptions\u001b[38;5;241m.\u001b[39mStoreBackendError:\n",
      "File \u001b[1;32m~\\anaconda3\\envs\\ML1\\lib\\site-packages\\great_expectations\\data_context\\store\\checkpoint_store.py:246\u001b[0m, in \u001b[0;36mCheckpointStore._persist_checkpoint\u001b[1;34m(self, key, checkpoint, persistence_fn)\u001b[0m\n\u001b[0;32m    240\u001b[0m \u001b[38;5;28;01mdef\u001b[39;00m \u001b[38;5;21m_persist_checkpoint\u001b[39m(\n\u001b[0;32m    241\u001b[0m     \u001b[38;5;28mself\u001b[39m,\n\u001b[0;32m    242\u001b[0m     key: GXCloudIdentifier \u001b[38;5;241m|\u001b[39m ConfigurationIdentifier,\n\u001b[0;32m    243\u001b[0m     checkpoint: Checkpoint,\n\u001b[0;32m    244\u001b[0m     persistence_fn: Callable,\n\u001b[0;32m    245\u001b[0m ) \u001b[38;5;241m-\u001b[39m\u001b[38;5;241m>\u001b[39m Checkpoint \u001b[38;5;241m|\u001b[39m CheckpointConfig:\n\u001b[1;32m--> 246\u001b[0m     checkpoint_ref \u001b[38;5;241m=\u001b[39m \u001b[43mpersistence_fn\u001b[49m\u001b[43m(\u001b[49m\u001b[43mkey\u001b[49m\u001b[38;5;241;43m=\u001b[39;49m\u001b[43mkey\u001b[49m\u001b[43m,\u001b[49m\u001b[43m \u001b[49m\u001b[43mvalue\u001b[49m\u001b[38;5;241;43m=\u001b[39;49m\u001b[43mcheckpoint\u001b[49m\u001b[38;5;241;43m.\u001b[39;49m\u001b[43mget_config\u001b[49m\u001b[43m(\u001b[49m\u001b[43m)\u001b[49m\u001b[43m)\u001b[49m\n\u001b[0;32m    247\u001b[0m     \u001b[38;5;28;01mif\u001b[39;00m \u001b[38;5;28misinstance\u001b[39m(checkpoint_ref, GXCloudResourceRef):\n\u001b[0;32m    248\u001b[0m         \u001b[38;5;66;03m# return CheckpointConfig from cloud POST response to account for any defaults/new ids added in cloud\u001b[39;00m\n",
      "File \u001b[1;32m~\\anaconda3\\envs\\ML1\\lib\\site-packages\\great_expectations\\data_context\\store\\store.py:234\u001b[0m, in \u001b[0;36mStore.add\u001b[1;34m(self, key, value, **kwargs)\u001b[0m\n\u001b[0;32m    231\u001b[0m \u001b[38;5;250m\u001b[39m\u001b[38;5;124;03m\"\"\"\u001b[39;00m\n\u001b[0;32m    232\u001b[0m \u001b[38;5;124;03mEssentially `set` but validates that a given key-value pair does not already exist.\u001b[39;00m\n\u001b[0;32m    233\u001b[0m \u001b[38;5;124;03m\"\"\"\u001b[39;00m\n\u001b[1;32m--> 234\u001b[0m \u001b[38;5;28;01mreturn\u001b[39;00m \u001b[38;5;28mself\u001b[39m\u001b[38;5;241m.\u001b[39m_add(key\u001b[38;5;241m=\u001b[39mkey, value\u001b[38;5;241m=\u001b[39mvalue, \u001b[38;5;241m*\u001b[39m\u001b[38;5;241m*\u001b[39mkwargs)\n",
      "File \u001b[1;32m~\\anaconda3\\envs\\ML1\\lib\\site-packages\\great_expectations\\data_context\\store\\store.py:238\u001b[0m, in \u001b[0;36mStore._add\u001b[1;34m(self, key, value, **kwargs)\u001b[0m\n\u001b[0;32m    237\u001b[0m \u001b[38;5;28mself\u001b[39m\u001b[38;5;241m.\u001b[39m_validate_key(key)\n\u001b[1;32m--> 238\u001b[0m \u001b[38;5;28;01mreturn\u001b[39;00m \u001b[38;5;28mself\u001b[39m\u001b[38;5;241m.\u001b[39m_store_backend\u001b[38;5;241m.\u001b[39madd(\n\u001b[0;32m    239\u001b[0m     \u001b[38;5;28mself\u001b[39m\u001b[38;5;241m.\u001b[39mkey_to_tuple(key), \u001b[38;5;28mself\u001b[39m\u001b[38;5;241m.\u001b[39mserialize(value), \u001b[38;5;241m*\u001b[39m\u001b[38;5;241m*\u001b[39mkwargs\n\u001b[0;32m    240\u001b[0m )\n",
      "File \u001b[1;32m~\\anaconda3\\envs\\ML1\\lib\\site-packages\\great_expectations\\data_context\\store\\_store_backend.py:143\u001b[0m, in \u001b[0;36mStoreBackend.add\u001b[1;34m(self, key, value, **kwargs)\u001b[0m\n\u001b[0;32m    140\u001b[0m \u001b[38;5;250m\u001b[39m\u001b[38;5;124;03m\"\"\"\u001b[39;00m\n\u001b[0;32m    141\u001b[0m \u001b[38;5;124;03mEssentially `set` but validates that a given key-value pair does not already exist.\u001b[39;00m\n\u001b[0;32m    142\u001b[0m \u001b[38;5;124;03m\"\"\"\u001b[39;00m\n\u001b[1;32m--> 143\u001b[0m \u001b[38;5;28;01mreturn\u001b[39;00m \u001b[38;5;28mself\u001b[39m\u001b[38;5;241m.\u001b[39m_add(key\u001b[38;5;241m=\u001b[39mkey, value\u001b[38;5;241m=\u001b[39mvalue, \u001b[38;5;241m*\u001b[39m\u001b[38;5;241m*\u001b[39mkwargs)\n",
      "File \u001b[1;32m~\\anaconda3\\envs\\ML1\\lib\\site-packages\\great_expectations\\data_context\\store\\_store_backend.py:147\u001b[0m, in \u001b[0;36mStoreBackend._add\u001b[1;34m(self, key, value, **kwargs)\u001b[0m\n\u001b[0;32m    146\u001b[0m \u001b[38;5;28;01mif\u001b[39;00m \u001b[38;5;28mself\u001b[39m\u001b[38;5;241m.\u001b[39mhas_key(key):\n\u001b[1;32m--> 147\u001b[0m     \u001b[38;5;28;01mraise\u001b[39;00m StoreBackendError(\u001b[38;5;124mf\u001b[39m\u001b[38;5;124m\"\u001b[39m\u001b[38;5;124mStore already has the following key: \u001b[39m\u001b[38;5;132;01m{\u001b[39;00mkey\u001b[38;5;132;01m}\u001b[39;00m\u001b[38;5;124m.\u001b[39m\u001b[38;5;124m\"\u001b[39m)\n\u001b[0;32m    148\u001b[0m \u001b[38;5;28;01mreturn\u001b[39;00m \u001b[38;5;28mself\u001b[39m\u001b[38;5;241m.\u001b[39mset(key\u001b[38;5;241m=\u001b[39mkey, value\u001b[38;5;241m=\u001b[39mvalue, \u001b[38;5;241m*\u001b[39m\u001b[38;5;241m*\u001b[39mkwargs)\n",
      "\u001b[1;31mStoreBackendError\u001b[0m: Store already has the following key: ('train_data_checkpoint',).",
      "\nDuring handling of the above exception, another exception occurred:\n",
      "\u001b[1;31mCheckpointError\u001b[0m                           Traceback (most recent call last)",
      "Cell \u001b[1;32mIn[18], line 1\u001b[0m\n\u001b[1;32m----> 1\u001b[0m context\u001b[38;5;241m.\u001b[39madd_checkpoint(\u001b[38;5;241m*\u001b[39m\u001b[38;5;241m*\u001b[39myaml\u001b[38;5;241m.\u001b[39mload(yaml_config))\n",
      "File \u001b[1;32m~\\anaconda3\\envs\\ML1\\lib\\site-packages\\great_expectations\\data_context\\data_context\\abstract_data_context.py:1686\u001b[0m, in \u001b[0;36mAbstractDataContext.add_checkpoint\u001b[1;34m(***failed resolving arguments***)\u001b[0m\n\u001b[0;32m   1659\u001b[0m \u001b[38;5;28;01mdel\u001b[39;00m expectation_suite_ge_cloud_id\n\u001b[0;32m   1661\u001b[0m checkpoint \u001b[38;5;241m=\u001b[39m \u001b[38;5;28mself\u001b[39m\u001b[38;5;241m.\u001b[39m_resolve_add_checkpoint_args(\n\u001b[0;32m   1662\u001b[0m     name\u001b[38;5;241m=\u001b[39mname,\n\u001b[0;32m   1663\u001b[0m     \u001b[38;5;28mid\u001b[39m\u001b[38;5;241m=\u001b[39m\u001b[38;5;28mid\u001b[39m,\n\u001b[1;32m   (...)\u001b[0m\n\u001b[0;32m   1683\u001b[0m     checkpoint\u001b[38;5;241m=\u001b[39mcheckpoint,\n\u001b[0;32m   1684\u001b[0m )\n\u001b[1;32m-> 1686\u001b[0m result \u001b[38;5;241m=\u001b[39m \u001b[38;5;28;43mself\u001b[39;49m\u001b[38;5;241;43m.\u001b[39;49m\u001b[43mcheckpoint_store\u001b[49m\u001b[38;5;241;43m.\u001b[39;49m\u001b[43madd_checkpoint\u001b[49m\u001b[43m(\u001b[49m\u001b[43mcheckpoint\u001b[49m\u001b[43m)\u001b[49m\n\u001b[0;32m   1688\u001b[0m \u001b[38;5;28;01mif\u001b[39;00m \u001b[38;5;28misinstance\u001b[39m(result, CheckpointConfig):\n\u001b[0;32m   1689\u001b[0m     result \u001b[38;5;241m=\u001b[39m Checkpoint\u001b[38;5;241m.\u001b[39minstantiate_from_config_with_runtime_args(\n\u001b[0;32m   1690\u001b[0m         checkpoint_config\u001b[38;5;241m=\u001b[39mresult,\n\u001b[0;32m   1691\u001b[0m         data_context\u001b[38;5;241m=\u001b[39m\u001b[38;5;28mself\u001b[39m,\n\u001b[0;32m   1692\u001b[0m         name\u001b[38;5;241m=\u001b[39mname,\n\u001b[0;32m   1693\u001b[0m     )\n",
      "File \u001b[1;32m~\\anaconda3\\envs\\ML1\\lib\\site-packages\\great_expectations\\data_context\\store\\checkpoint_store.py:187\u001b[0m, in \u001b[0;36mCheckpointStore.add_checkpoint\u001b[1;34m(self, checkpoint)\u001b[0m\n\u001b[0;32m    183\u001b[0m     \u001b[38;5;28;01mreturn\u001b[39;00m \u001b[38;5;28mself\u001b[39m\u001b[38;5;241m.\u001b[39m_persist_checkpoint(\n\u001b[0;32m    184\u001b[0m         key\u001b[38;5;241m=\u001b[39mkey, checkpoint\u001b[38;5;241m=\u001b[39mcheckpoint, persistence_fn\u001b[38;5;241m=\u001b[39m\u001b[38;5;28mself\u001b[39m\u001b[38;5;241m.\u001b[39madd\n\u001b[0;32m    185\u001b[0m     )\n\u001b[0;32m    186\u001b[0m \u001b[38;5;28;01mexcept\u001b[39;00m gx_exceptions\u001b[38;5;241m.\u001b[39mStoreBackendError:\n\u001b[1;32m--> 187\u001b[0m     \u001b[38;5;28;01mraise\u001b[39;00m gx_exceptions\u001b[38;5;241m.\u001b[39mCheckpointError(\n\u001b[0;32m    188\u001b[0m         \u001b[38;5;124mf\u001b[39m\u001b[38;5;124m\"\u001b[39m\u001b[38;5;124mA Checkpoint named \u001b[39m\u001b[38;5;132;01m{\u001b[39;00mcheckpoint\u001b[38;5;241m.\u001b[39mname\u001b[38;5;132;01m}\u001b[39;00m\u001b[38;5;124m already exists.\u001b[39m\u001b[38;5;124m\"\u001b[39m\n\u001b[0;32m    189\u001b[0m     )\n",
      "\u001b[1;31mCheckpointError\u001b[0m: A Checkpoint named train_data_checkpoint already exists."
     ]
    }
   ],
   "source": [
    "context.add_checkpoint(**yaml.load(yaml_config))"
   ]
  },
  {
   "cell_type": "markdown",
   "id": "970ca1af",
   "metadata": {},
   "source": [
    "# Run Your Checkpoint & Open Data Docs(Optional)\n",
    "\n",
    "You may wish to run the Checkpoint now and review its output in Data Docs. If so uncomment and run the following cell."
   ]
  },
  {
   "cell_type": "code",
   "execution_count": 19,
   "id": "e9333000",
   "metadata": {},
   "outputs": [
    {
     "ename": "CheckpointError",
     "evalue": "Exception occurred while running validation[0] of Checkpoint 'train_data_checkpoint': Unable to determine reader method from path: \"c:\\users\\benja\\desktop\\strojno učenje\\strojnoucenje111-master\\strojnoucenje111-master\\gx\\..\\data\\processed\\.gitignore\"..",
     "output_type": "error",
     "traceback": [
      "\u001b[1;31m---------------------------------------------------------------------------\u001b[0m",
      "\u001b[1;31mExecutionEngineError\u001b[0m                      Traceback (most recent call last)",
      "File \u001b[1;32m~\\anaconda3\\envs\\ML1\\lib\\site-packages\\great_expectations\\checkpoint\\checkpoint.py:480\u001b[0m, in \u001b[0;36mBaseCheckpoint._run_validation\u001b[1;34m(self, substituted_runtime_config, async_validation_operator_results, async_executor, result_format, run_id, idx, validation_dict)\u001b[0m\n\u001b[0;32m    476\u001b[0m     include_rendered_content \u001b[38;5;241m=\u001b[39m (\n\u001b[0;32m    477\u001b[0m         \u001b[38;5;28mself\u001b[39m\u001b[38;5;241m.\u001b[39m_data_context\u001b[38;5;241m.\u001b[39m_determine_if_expectation_validation_result_include_rendered_content()\n\u001b[0;32m    478\u001b[0m     )\n\u001b[1;32m--> 480\u001b[0m validator: Validator \u001b[38;5;241m=\u001b[39m \u001b[38;5;28mself\u001b[39m\u001b[38;5;241m.\u001b[39m_validator \u001b[38;5;129;01mor\u001b[39;00m \u001b[38;5;28;43mself\u001b[39;49m\u001b[38;5;241;43m.\u001b[39;49m\u001b[43mdata_context\u001b[49m\u001b[38;5;241;43m.\u001b[39;49m\u001b[43mget_validator\u001b[49m\u001b[43m(\u001b[49m\n\u001b[0;32m    481\u001b[0m \u001b[43m    \u001b[49m\u001b[43mbatch_request\u001b[49m\u001b[38;5;241;43m=\u001b[39;49m\u001b[43mbatch_request\u001b[49m\u001b[43m,\u001b[49m\n\u001b[0;32m    482\u001b[0m \u001b[43m    \u001b[49m\u001b[43mexpectation_suite_name\u001b[49m\u001b[38;5;241;43m=\u001b[39;49m\u001b[43mexpectation_suite_name\u001b[49m\n\u001b[0;32m    483\u001b[0m \u001b[43m    \u001b[49m\u001b[38;5;28;43;01mif\u001b[39;49;00m\u001b[43m \u001b[49m\u001b[38;5;129;43;01mnot\u001b[39;49;00m\u001b[43m \u001b[49m\u001b[38;5;28;43mself\u001b[39;49m\u001b[38;5;241;43m.\u001b[39;49m\u001b[43m_using_cloud_context\u001b[49m\n\u001b[0;32m    484\u001b[0m \u001b[43m    \u001b[49m\u001b[38;5;28;43;01melse\u001b[39;49;00m\u001b[43m \u001b[49m\u001b[38;5;28;43;01mNone\u001b[39;49;00m\u001b[43m,\u001b[49m\n\u001b[0;32m    485\u001b[0m \u001b[43m    \u001b[49m\u001b[43mexpectation_suite_ge_cloud_id\u001b[49m\u001b[38;5;241;43m=\u001b[39;49m\u001b[43m(\u001b[49m\n\u001b[0;32m    486\u001b[0m \u001b[43m        \u001b[49m\u001b[43mexpectation_suite_ge_cloud_id\u001b[49m\u001b[43m \u001b[49m\u001b[38;5;28;43;01mif\u001b[39;49;00m\u001b[43m \u001b[49m\u001b[38;5;28;43mself\u001b[39;49m\u001b[38;5;241;43m.\u001b[39;49m\u001b[43m_using_cloud_context\u001b[49m\u001b[43m \u001b[49m\u001b[38;5;28;43;01melse\u001b[39;49;00m\u001b[43m \u001b[49m\u001b[38;5;28;43;01mNone\u001b[39;49;00m\n\u001b[0;32m    487\u001b[0m \u001b[43m    \u001b[49m\u001b[43m)\u001b[49m\u001b[43m,\u001b[49m\n\u001b[0;32m    488\u001b[0m \u001b[43m    \u001b[49m\u001b[43minclude_rendered_content\u001b[49m\u001b[38;5;241;43m=\u001b[39;49m\u001b[43minclude_rendered_content\u001b[49m\u001b[43m,\u001b[49m\n\u001b[0;32m    489\u001b[0m \u001b[43m\u001b[49m\u001b[43m)\u001b[49m\n\u001b[0;32m    491\u001b[0m action_list: Sequence[ActionDict] \u001b[38;5;241m|\u001b[39m \u001b[38;5;28;01mNone\u001b[39;00m \u001b[38;5;241m=\u001b[39m substituted_validation_dict\u001b[38;5;241m.\u001b[39mget(\n\u001b[0;32m    492\u001b[0m     \u001b[38;5;124m\"\u001b[39m\u001b[38;5;124maction_list\u001b[39m\u001b[38;5;124m\"\u001b[39m\n\u001b[0;32m    493\u001b[0m )\n",
      "File \u001b[1;32m~\\anaconda3\\envs\\ML1\\lib\\site-packages\\great_expectations\\data_context\\data_context\\abstract_data_context.py:2374\u001b[0m, in \u001b[0;36mAbstractDataContext.get_validator\u001b[1;34m(***failed resolving arguments***)\u001b[0m\n\u001b[0;32m   2372\u001b[0m     \u001b[38;5;28;01mfor\u001b[39;00m batch_request \u001b[38;5;129;01min\u001b[39;00m batch_request_list:\n\u001b[0;32m   2373\u001b[0m         batch_list\u001b[38;5;241m.\u001b[39mextend(\n\u001b[1;32m-> 2374\u001b[0m             \u001b[38;5;28mself\u001b[39m\u001b[38;5;241m.\u001b[39mget_batch_list(\n\u001b[0;32m   2375\u001b[0m                 datasource_name\u001b[38;5;241m=\u001b[39mdatasource_name,\n\u001b[0;32m   2376\u001b[0m                 data_connector_name\u001b[38;5;241m=\u001b[39mdata_connector_name,\n\u001b[0;32m   2377\u001b[0m                 data_asset_name\u001b[38;5;241m=\u001b[39mdata_asset_name,\n\u001b[0;32m   2378\u001b[0m                 batch_request\u001b[38;5;241m=\u001b[39mbatch_request,\n\u001b[0;32m   2379\u001b[0m                 batch_data\u001b[38;5;241m=\u001b[39mbatch_data,\n\u001b[0;32m   2380\u001b[0m                 data_connector_query\u001b[38;5;241m=\u001b[39mdata_connector_query,\n\u001b[0;32m   2381\u001b[0m                 batch_identifiers\u001b[38;5;241m=\u001b[39mbatch_identifiers,\n\u001b[0;32m   2382\u001b[0m                 limit\u001b[38;5;241m=\u001b[39mlimit,\n\u001b[0;32m   2383\u001b[0m                 index\u001b[38;5;241m=\u001b[39mindex,\n\u001b[0;32m   2384\u001b[0m                 custom_filter_function\u001b[38;5;241m=\u001b[39mcustom_filter_function,\n\u001b[0;32m   2385\u001b[0m                 sampling_method\u001b[38;5;241m=\u001b[39msampling_method,\n\u001b[0;32m   2386\u001b[0m                 sampling_kwargs\u001b[38;5;241m=\u001b[39msampling_kwargs,\n\u001b[0;32m   2387\u001b[0m                 splitter_method\u001b[38;5;241m=\u001b[39msplitter_method,\n\u001b[0;32m   2388\u001b[0m                 splitter_kwargs\u001b[38;5;241m=\u001b[39msplitter_kwargs,\n\u001b[0;32m   2389\u001b[0m                 runtime_parameters\u001b[38;5;241m=\u001b[39mruntime_parameters,\n\u001b[0;32m   2390\u001b[0m                 query\u001b[38;5;241m=\u001b[39mquery,\n\u001b[0;32m   2391\u001b[0m                 path\u001b[38;5;241m=\u001b[39mpath,\n\u001b[0;32m   2392\u001b[0m                 batch_filter_parameters\u001b[38;5;241m=\u001b[39mbatch_filter_parameters,\n\u001b[0;32m   2393\u001b[0m                 batch_spec_passthrough\u001b[38;5;241m=\u001b[39mbatch_spec_passthrough,\n\u001b[0;32m   2394\u001b[0m                 \u001b[38;5;241m*\u001b[39m\u001b[38;5;241m*\u001b[39mkwargs,\n\u001b[0;32m   2395\u001b[0m             )\n\u001b[0;32m   2396\u001b[0m         )\n\u001b[0;32m   2398\u001b[0m \u001b[38;5;28;01mreturn\u001b[39;00m \u001b[38;5;28mself\u001b[39m\u001b[38;5;241m.\u001b[39mget_validator_using_batch_list(\n\u001b[0;32m   2399\u001b[0m     expectation_suite\u001b[38;5;241m=\u001b[39mexpectation_suite,  \u001b[38;5;66;03m# type: ignore[arg-type]\u001b[39;00m\n\u001b[0;32m   2400\u001b[0m     batch_list\u001b[38;5;241m=\u001b[39mbatch_list,\n\u001b[0;32m   2401\u001b[0m     include_rendered_content\u001b[38;5;241m=\u001b[39minclude_rendered_content,\n\u001b[0;32m   2402\u001b[0m )\n",
      "File \u001b[1;32m~\\anaconda3\\envs\\ML1\\lib\\site-packages\\great_expectations\\core\\usage_statistics\\usage_statistics.py:266\u001b[0m, in \u001b[0;36musage_statistics_enabled_method.<locals>.usage_statistics_wrapped_method\u001b[1;34m(*args, **kwargs)\u001b[0m\n\u001b[0;32m    264\u001b[0m     nested_update(event_payload, args_payload)\n\u001b[1;32m--> 266\u001b[0m result \u001b[38;5;241m=\u001b[39m func(\u001b[38;5;241m*\u001b[39margs, \u001b[38;5;241m*\u001b[39m\u001b[38;5;241m*\u001b[39mkwargs)\n\u001b[0;32m    267\u001b[0m message[\u001b[38;5;124m\"\u001b[39m\u001b[38;5;124msuccess\u001b[39m\u001b[38;5;124m\"\u001b[39m] \u001b[38;5;241m=\u001b[39m \u001b[38;5;28;01mTrue\u001b[39;00m\n",
      "File \u001b[1;32m~\\anaconda3\\envs\\ML1\\lib\\site-packages\\great_expectations\\data_context\\data_context\\abstract_data_context.py:2543\u001b[0m, in \u001b[0;36mAbstractDataContext.get_batch_list\u001b[1;34m(self, datasource_name, data_connector_name, data_asset_name, batch_request, batch_data, data_connector_query, batch_identifiers, limit, index, custom_filter_function, sampling_method, sampling_kwargs, splitter_method, splitter_kwargs, runtime_parameters, query, path, batch_filter_parameters, batch_spec_passthrough, batch_request_options, **kwargs)\u001b[0m\n\u001b[0;32m   2494\u001b[0m \u001b[38;5;250m\u001b[39m\u001b[38;5;124;03m\"\"\"Get the list of zero or more batches, based on a variety of flexible input types.\u001b[39;00m\n\u001b[0;32m   2495\u001b[0m \n\u001b[0;32m   2496\u001b[0m \u001b[38;5;124;03m`get_batch_list` is the main user-facing API for getting batches.\u001b[39;00m\n\u001b[1;32m   (...)\u001b[0m\n\u001b[0;32m   2541\u001b[0m \n\u001b[0;32m   2542\u001b[0m \u001b[38;5;124;03m\"\"\"\u001b[39;00m\n\u001b[1;32m-> 2543\u001b[0m \u001b[38;5;28;01mreturn\u001b[39;00m \u001b[38;5;28mself\u001b[39m\u001b[38;5;241m.\u001b[39m_get_batch_list(\n\u001b[0;32m   2544\u001b[0m     datasource_name\u001b[38;5;241m=\u001b[39mdatasource_name,\n\u001b[0;32m   2545\u001b[0m     data_connector_name\u001b[38;5;241m=\u001b[39mdata_connector_name,\n\u001b[0;32m   2546\u001b[0m     data_asset_name\u001b[38;5;241m=\u001b[39mdata_asset_name,\n\u001b[0;32m   2547\u001b[0m     batch_request\u001b[38;5;241m=\u001b[39mbatch_request,\n\u001b[0;32m   2548\u001b[0m     batch_data\u001b[38;5;241m=\u001b[39mbatch_data,\n\u001b[0;32m   2549\u001b[0m     data_connector_query\u001b[38;5;241m=\u001b[39mdata_connector_query,\n\u001b[0;32m   2550\u001b[0m     batch_identifiers\u001b[38;5;241m=\u001b[39mbatch_identifiers,\n\u001b[0;32m   2551\u001b[0m     limit\u001b[38;5;241m=\u001b[39mlimit,\n\u001b[0;32m   2552\u001b[0m     index\u001b[38;5;241m=\u001b[39mindex,\n\u001b[0;32m   2553\u001b[0m     custom_filter_function\u001b[38;5;241m=\u001b[39mcustom_filter_function,\n\u001b[0;32m   2554\u001b[0m     sampling_method\u001b[38;5;241m=\u001b[39msampling_method,\n\u001b[0;32m   2555\u001b[0m     sampling_kwargs\u001b[38;5;241m=\u001b[39msampling_kwargs,\n\u001b[0;32m   2556\u001b[0m     splitter_method\u001b[38;5;241m=\u001b[39msplitter_method,\n\u001b[0;32m   2557\u001b[0m     splitter_kwargs\u001b[38;5;241m=\u001b[39msplitter_kwargs,\n\u001b[0;32m   2558\u001b[0m     runtime_parameters\u001b[38;5;241m=\u001b[39mruntime_parameters,\n\u001b[0;32m   2559\u001b[0m     query\u001b[38;5;241m=\u001b[39mquery,\n\u001b[0;32m   2560\u001b[0m     path\u001b[38;5;241m=\u001b[39mpath,\n\u001b[0;32m   2561\u001b[0m     batch_filter_parameters\u001b[38;5;241m=\u001b[39mbatch_filter_parameters,\n\u001b[0;32m   2562\u001b[0m     batch_spec_passthrough\u001b[38;5;241m=\u001b[39mbatch_spec_passthrough,\n\u001b[0;32m   2563\u001b[0m     batch_request_options\u001b[38;5;241m=\u001b[39mbatch_request_options,\n\u001b[0;32m   2564\u001b[0m     \u001b[38;5;241m*\u001b[39m\u001b[38;5;241m*\u001b[39mkwargs,\n\u001b[0;32m   2565\u001b[0m )\n",
      "File \u001b[1;32m~\\anaconda3\\envs\\ML1\\lib\\site-packages\\great_expectations\\data_context\\data_context\\abstract_data_context.py:2624\u001b[0m, in \u001b[0;36mAbstractDataContext._get_batch_list\u001b[1;34m(self, datasource_name, data_connector_name, data_asset_name, batch_request, batch_data, data_connector_query, batch_identifiers, limit, index, custom_filter_function, sampling_method, sampling_kwargs, splitter_method, splitter_kwargs, runtime_parameters, query, path, batch_filter_parameters, batch_spec_passthrough, batch_request_options, **kwargs)\u001b[0m\n\u001b[0;32m   2618\u001b[0m     \u001b[38;5;28;01mraise\u001b[39;00m gx_exceptions\u001b[38;5;241m.\u001b[39mDatasourceError(\n\u001b[0;32m   2619\u001b[0m         datasource_name,\n\u001b[0;32m   2620\u001b[0m         \u001b[38;5;124m\"\u001b[39m\u001b[38;5;124mThe given datasource could not be retrieved from the DataContext; \u001b[39m\u001b[38;5;124m\"\u001b[39m\n\u001b[0;32m   2621\u001b[0m         \u001b[38;5;124m\"\u001b[39m\u001b[38;5;124mplease confirm that your configuration is accurate.\u001b[39m\u001b[38;5;124m\"\u001b[39m,\n\u001b[0;32m   2622\u001b[0m     )\n\u001b[1;32m-> 2624\u001b[0m \u001b[38;5;28;01mreturn\u001b[39;00m \u001b[43mdatasource\u001b[49m\u001b[38;5;241;43m.\u001b[39;49m\u001b[43mget_batch_list_from_batch_request\u001b[49m\u001b[43m(\u001b[49m\u001b[43mbatch_request\u001b[49m\u001b[38;5;241;43m=\u001b[39;49m\u001b[43mresult\u001b[49m\u001b[43m)\u001b[49m\n",
      "File \u001b[1;32m~\\anaconda3\\envs\\ML1\\lib\\site-packages\\great_expectations\\datasource\\new_datasource.py:218\u001b[0m, in \u001b[0;36mBaseDatasource.get_batch_list_from_batch_request\u001b[1;34m(self, batch_request)\u001b[0m\n\u001b[0;32m    213\u001b[0m batch_markers: BatchMarkers  \u001b[38;5;66;03m# type: ignore[no-redef]\u001b[39;00m\n\u001b[0;32m    214\u001b[0m (\n\u001b[0;32m    215\u001b[0m     batch_data,\n\u001b[0;32m    216\u001b[0m     batch_spec,\n\u001b[0;32m    217\u001b[0m     batch_markers,\n\u001b[1;32m--> 218\u001b[0m ) \u001b[38;5;241m=\u001b[39m \u001b[43mdata_connector\u001b[49m\u001b[38;5;241;43m.\u001b[39;49m\u001b[43mget_batch_data_and_metadata\u001b[49m\u001b[43m(\u001b[49m\n\u001b[0;32m    219\u001b[0m \u001b[43m    \u001b[49m\u001b[43mbatch_definition\u001b[49m\u001b[38;5;241;43m=\u001b[39;49m\u001b[43mbatch_definition\u001b[49m\n\u001b[0;32m    220\u001b[0m \u001b[43m\u001b[49m\u001b[43m)\u001b[49m\n\u001b[0;32m    221\u001b[0m new_batch \u001b[38;5;241m=\u001b[39m Batch(\n\u001b[0;32m    222\u001b[0m     data\u001b[38;5;241m=\u001b[39mbatch_data,\n\u001b[0;32m    223\u001b[0m     batch_request\u001b[38;5;241m=\u001b[39mbatch_request,\n\u001b[1;32m   (...)\u001b[0m\n\u001b[0;32m    226\u001b[0m     batch_markers\u001b[38;5;241m=\u001b[39mbatch_markers,\n\u001b[0;32m    227\u001b[0m )\n",
      "File \u001b[1;32m~\\anaconda3\\envs\\ML1\\lib\\site-packages\\great_expectations\\datasource\\data_connector\\data_connector.py:121\u001b[0m, in \u001b[0;36mDataConnector.get_batch_data_and_metadata\u001b[1;34m(self, batch_definition)\u001b[0m\n\u001b[0;32m    120\u001b[0m batch_spec: BatchSpec \u001b[38;5;241m=\u001b[39m \u001b[38;5;28mself\u001b[39m\u001b[38;5;241m.\u001b[39mbuild_batch_spec(batch_definition\u001b[38;5;241m=\u001b[39mbatch_definition)\n\u001b[1;32m--> 121\u001b[0m batch_data, batch_markers \u001b[38;5;241m=\u001b[39m \u001b[38;5;28;43mself\u001b[39;49m\u001b[38;5;241;43m.\u001b[39;49m\u001b[43m_execution_engine\u001b[49m\u001b[38;5;241;43m.\u001b[39;49m\u001b[43mget_batch_data_and_markers\u001b[49m\u001b[43m(\u001b[49m\n\u001b[0;32m    122\u001b[0m \u001b[43m    \u001b[49m\u001b[43mbatch_spec\u001b[49m\u001b[38;5;241;43m=\u001b[39;49m\u001b[43mbatch_spec\u001b[49m\n\u001b[0;32m    123\u001b[0m \u001b[43m\u001b[49m\u001b[43m)\u001b[49m\n\u001b[0;32m    124\u001b[0m \u001b[38;5;28mself\u001b[39m\u001b[38;5;241m.\u001b[39m_execution_engine\u001b[38;5;241m.\u001b[39mload_batch_data(batch_definition\u001b[38;5;241m.\u001b[39mid, batch_data)\n",
      "File \u001b[1;32m~\\anaconda3\\envs\\ML1\\lib\\site-packages\\great_expectations\\execution_engine\\pandas_execution_engine.py:337\u001b[0m, in \u001b[0;36mPandasExecutionEngine.get_batch_data_and_markers\u001b[1;34m(self, batch_spec)\u001b[0m\n\u001b[0;32m    336\u001b[0m path \u001b[38;5;241m=\u001b[39m batch_spec\u001b[38;5;241m.\u001b[39mpath\n\u001b[1;32m--> 337\u001b[0m reader_fn \u001b[38;5;241m=\u001b[39m \u001b[38;5;28;43mself\u001b[39;49m\u001b[38;5;241;43m.\u001b[39;49m\u001b[43m_get_reader_fn\u001b[49m\u001b[43m(\u001b[49m\u001b[43mreader_method\u001b[49m\u001b[43m,\u001b[49m\u001b[43m \u001b[49m\u001b[43mpath\u001b[49m\u001b[43m)\u001b[49m\n\u001b[0;32m    338\u001b[0m df \u001b[38;5;241m=\u001b[39m reader_fn(path, \u001b[38;5;241m*\u001b[39m\u001b[38;5;241m*\u001b[39mreader_options)\n",
      "File \u001b[1;32m~\\anaconda3\\envs\\ML1\\lib\\site-packages\\great_expectations\\execution_engine\\pandas_execution_engine.py:486\u001b[0m, in \u001b[0;36mPandasExecutionEngine._get_reader_fn\u001b[1;34m(self, reader_method, path)\u001b[0m\n\u001b[0;32m    485\u001b[0m \u001b[38;5;28;01mif\u001b[39;00m reader_method \u001b[38;5;129;01mis\u001b[39;00m \u001b[38;5;28;01mNone\u001b[39;00m:\n\u001b[1;32m--> 486\u001b[0m     path_guess \u001b[38;5;241m=\u001b[39m \u001b[38;5;28;43mself\u001b[39;49m\u001b[38;5;241;43m.\u001b[39;49m\u001b[43mguess_reader_method_from_path\u001b[49m\u001b[43m(\u001b[49m\u001b[43mpath\u001b[49m\u001b[43m)\u001b[49m  \u001b[38;5;66;03m# type: ignore[arg-type] # see overload\u001b[39;00m\n\u001b[0;32m    487\u001b[0m     reader_method \u001b[38;5;241m=\u001b[39m path_guess[\u001b[38;5;124m\"\u001b[39m\u001b[38;5;124mreader_method\u001b[39m\u001b[38;5;124m\"\u001b[39m]\n",
      "File \u001b[1;32m~\\anaconda3\\envs\\ML1\\lib\\site-packages\\great_expectations\\execution_engine\\pandas_execution_engine.py:449\u001b[0m, in \u001b[0;36mPandasExecutionEngine.guess_reader_method_from_path\u001b[1;34m(path)\u001b[0m\n\u001b[0;32m    448\u001b[0m \u001b[38;5;28;01melse\u001b[39;00m:\n\u001b[1;32m--> 449\u001b[0m     \u001b[38;5;28;01mraise\u001b[39;00m gx_exceptions\u001b[38;5;241m.\u001b[39mExecutionEngineError(\n\u001b[0;32m    450\u001b[0m         \u001b[38;5;124mf\u001b[39m\u001b[38;5;124m'\u001b[39m\u001b[38;5;124mUnable to determine reader method from path: \u001b[39m\u001b[38;5;124m\"\u001b[39m\u001b[38;5;132;01m{\u001b[39;00mpath\u001b[38;5;132;01m}\u001b[39;00m\u001b[38;5;124m\"\u001b[39m\u001b[38;5;124m.\u001b[39m\u001b[38;5;124m'\u001b[39m\n\u001b[0;32m    451\u001b[0m     )\n",
      "\u001b[1;31mExecutionEngineError\u001b[0m: Unable to determine reader method from path: \"c:\\users\\benja\\desktop\\strojno učenje\\strojnoucenje111-master\\strojnoucenje111-master\\gx\\..\\data\\processed\\.gitignore\".",
      "\nThe above exception was the direct cause of the following exception:\n",
      "\u001b[1;31mCheckpointError\u001b[0m                           Traceback (most recent call last)",
      "Cell \u001b[1;32mIn[19], line 1\u001b[0m\n\u001b[1;32m----> 1\u001b[0m \u001b[43mcontext\u001b[49m\u001b[38;5;241;43m.\u001b[39;49m\u001b[43mrun_checkpoint\u001b[49m\u001b[43m(\u001b[49m\u001b[43mcheckpoint_name\u001b[49m\u001b[38;5;241;43m=\u001b[39;49m\u001b[43mmy_checkpoint_name\u001b[49m\u001b[43m)\u001b[49m\n\u001b[0;32m      2\u001b[0m context\u001b[38;5;241m.\u001b[39mopen_data_docs()\n",
      "File \u001b[1;32m~\\anaconda3\\envs\\ML1\\lib\\site-packages\\great_expectations\\core\\usage_statistics\\usage_statistics.py:266\u001b[0m, in \u001b[0;36musage_statistics_enabled_method.<locals>.usage_statistics_wrapped_method\u001b[1;34m(*args, **kwargs)\u001b[0m\n\u001b[0;32m    263\u001b[0m         args_payload \u001b[38;5;241m=\u001b[39m args_payload_fn(\u001b[38;5;241m*\u001b[39margs, \u001b[38;5;241m*\u001b[39m\u001b[38;5;241m*\u001b[39mkwargs) \u001b[38;5;129;01mor\u001b[39;00m {}\n\u001b[0;32m    264\u001b[0m         nested_update(event_payload, args_payload)\n\u001b[1;32m--> 266\u001b[0m     result \u001b[38;5;241m=\u001b[39m func(\u001b[38;5;241m*\u001b[39margs, \u001b[38;5;241m*\u001b[39m\u001b[38;5;241m*\u001b[39mkwargs)\n\u001b[0;32m    267\u001b[0m     message[\u001b[38;5;124m\"\u001b[39m\u001b[38;5;124msuccess\u001b[39m\u001b[38;5;124m\"\u001b[39m] \u001b[38;5;241m=\u001b[39m \u001b[38;5;28;01mTrue\u001b[39;00m\n\u001b[0;32m    268\u001b[0m \u001b[38;5;28;01mexcept\u001b[39;00m \u001b[38;5;167;01mException\u001b[39;00m:\n",
      "File \u001b[1;32m~\\anaconda3\\envs\\ML1\\lib\\site-packages\\great_expectations\\data_context\\data_context\\abstract_data_context.py:2107\u001b[0m, in \u001b[0;36mAbstractDataContext.run_checkpoint\u001b[1;34m(***failed resolving arguments***)\u001b[0m\n\u001b[0;32m   2104\u001b[0m \u001b[38;5;28;01mdel\u001b[39;00m ge_cloud_id\n\u001b[0;32m   2105\u001b[0m \u001b[38;5;28;01mdel\u001b[39;00m expectation_suite_ge_cloud_id\n\u001b[1;32m-> 2107\u001b[0m \u001b[38;5;28;01mreturn\u001b[39;00m \u001b[38;5;28mself\u001b[39m\u001b[38;5;241m.\u001b[39m_run_checkpoint(\n\u001b[0;32m   2108\u001b[0m     checkpoint_name\u001b[38;5;241m=\u001b[39mcheckpoint_name,\n\u001b[0;32m   2109\u001b[0m     \u001b[38;5;28mid\u001b[39m\u001b[38;5;241m=\u001b[39m\u001b[38;5;28mid\u001b[39m,\n\u001b[0;32m   2110\u001b[0m     template_name\u001b[38;5;241m=\u001b[39mtemplate_name,\n\u001b[0;32m   2111\u001b[0m     run_name_template\u001b[38;5;241m=\u001b[39mrun_name_template,\n\u001b[0;32m   2112\u001b[0m     expectation_suite_name\u001b[38;5;241m=\u001b[39mexpectation_suite_name,\n\u001b[0;32m   2113\u001b[0m     batch_request\u001b[38;5;241m=\u001b[39mbatch_request,\n\u001b[0;32m   2114\u001b[0m     action_list\u001b[38;5;241m=\u001b[39maction_list,\n\u001b[0;32m   2115\u001b[0m     evaluation_parameters\u001b[38;5;241m=\u001b[39mevaluation_parameters,\n\u001b[0;32m   2116\u001b[0m     runtime_configuration\u001b[38;5;241m=\u001b[39mruntime_configuration,\n\u001b[0;32m   2117\u001b[0m     validations\u001b[38;5;241m=\u001b[39mvalidations,\n\u001b[0;32m   2118\u001b[0m     profilers\u001b[38;5;241m=\u001b[39mprofilers,\n\u001b[0;32m   2119\u001b[0m     run_id\u001b[38;5;241m=\u001b[39mrun_id,\n\u001b[0;32m   2120\u001b[0m     run_name\u001b[38;5;241m=\u001b[39mrun_name,\n\u001b[0;32m   2121\u001b[0m     run_time\u001b[38;5;241m=\u001b[39mrun_time,\n\u001b[0;32m   2122\u001b[0m     result_format\u001b[38;5;241m=\u001b[39mresult_format,\n\u001b[0;32m   2123\u001b[0m     expectation_suite_ge_cloud_id\u001b[38;5;241m=\u001b[39mexpectation_suite_id,\n\u001b[0;32m   2124\u001b[0m     \u001b[38;5;241m*\u001b[39m\u001b[38;5;241m*\u001b[39mkwargs,\n\u001b[0;32m   2125\u001b[0m )\n",
      "File \u001b[1;32m~\\anaconda3\\envs\\ML1\\lib\\site-packages\\great_expectations\\data_context\\data_context\\abstract_data_context.py:2151\u001b[0m, in \u001b[0;36mAbstractDataContext._run_checkpoint\u001b[1;34m(self, checkpoint_name, id, template_name, run_name_template, expectation_suite_name, batch_request, action_list, evaluation_parameters, runtime_configuration, validations, profilers, run_id, run_name, run_time, result_format, expectation_suite_ge_cloud_id, **kwargs)\u001b[0m\n\u001b[0;32m   2127\u001b[0m \u001b[38;5;28;01mdef\u001b[39;00m \u001b[38;5;21m_run_checkpoint\u001b[39m(  \u001b[38;5;66;03m# noqa: PLR0913\u001b[39;00m\n\u001b[0;32m   2128\u001b[0m     \u001b[38;5;28mself\u001b[39m,\n\u001b[0;32m   2129\u001b[0m     checkpoint_name: \u001b[38;5;28mstr\u001b[39m \u001b[38;5;241m|\u001b[39m \u001b[38;5;28;01mNone\u001b[39;00m \u001b[38;5;241m=\u001b[39m \u001b[38;5;28;01mNone\u001b[39;00m,\n\u001b[1;32m   (...)\u001b[0m\n\u001b[0;32m   2145\u001b[0m     \u001b[38;5;241m*\u001b[39m\u001b[38;5;241m*\u001b[39mkwargs,\n\u001b[0;32m   2146\u001b[0m ) \u001b[38;5;241m-\u001b[39m\u001b[38;5;241m>\u001b[39m CheckpointResult:\n\u001b[0;32m   2147\u001b[0m     checkpoint: Checkpoint \u001b[38;5;241m=\u001b[39m \u001b[38;5;28mself\u001b[39m\u001b[38;5;241m.\u001b[39mget_checkpoint(\n\u001b[0;32m   2148\u001b[0m         name\u001b[38;5;241m=\u001b[39mcheckpoint_name,\n\u001b[0;32m   2149\u001b[0m         \u001b[38;5;28mid\u001b[39m\u001b[38;5;241m=\u001b[39m\u001b[38;5;28mid\u001b[39m,\n\u001b[0;32m   2150\u001b[0m     )\n\u001b[1;32m-> 2151\u001b[0m     result: CheckpointResult \u001b[38;5;241m=\u001b[39m checkpoint\u001b[38;5;241m.\u001b[39mrun_with_runtime_args(\n\u001b[0;32m   2152\u001b[0m         template_name\u001b[38;5;241m=\u001b[39mtemplate_name,\n\u001b[0;32m   2153\u001b[0m         run_name_template\u001b[38;5;241m=\u001b[39mrun_name_template,\n\u001b[0;32m   2154\u001b[0m         expectation_suite_name\u001b[38;5;241m=\u001b[39mexpectation_suite_name,\n\u001b[0;32m   2155\u001b[0m         batch_request\u001b[38;5;241m=\u001b[39mbatch_request,\n\u001b[0;32m   2156\u001b[0m         action_list\u001b[38;5;241m=\u001b[39maction_list,\n\u001b[0;32m   2157\u001b[0m         evaluation_parameters\u001b[38;5;241m=\u001b[39mevaluation_parameters,\n\u001b[0;32m   2158\u001b[0m         runtime_configuration\u001b[38;5;241m=\u001b[39mruntime_configuration,\n\u001b[0;32m   2159\u001b[0m         validations\u001b[38;5;241m=\u001b[39mvalidations,\n\u001b[0;32m   2160\u001b[0m         profilers\u001b[38;5;241m=\u001b[39mprofilers,\n\u001b[0;32m   2161\u001b[0m         run_id\u001b[38;5;241m=\u001b[39mrun_id,\n\u001b[0;32m   2162\u001b[0m         run_name\u001b[38;5;241m=\u001b[39mrun_name,\n\u001b[0;32m   2163\u001b[0m         run_time\u001b[38;5;241m=\u001b[39mrun_time,\n\u001b[0;32m   2164\u001b[0m         result_format\u001b[38;5;241m=\u001b[39mresult_format,\n\u001b[0;32m   2165\u001b[0m         expectation_suite_ge_cloud_id\u001b[38;5;241m=\u001b[39mexpectation_suite_ge_cloud_id,\n\u001b[0;32m   2166\u001b[0m         \u001b[38;5;241m*\u001b[39m\u001b[38;5;241m*\u001b[39mkwargs,\n\u001b[0;32m   2167\u001b[0m     )\n\u001b[0;32m   2168\u001b[0m     \u001b[38;5;28;01mreturn\u001b[39;00m result\n",
      "File \u001b[1;32m~\\anaconda3\\envs\\ML1\\lib\\site-packages\\great_expectations\\checkpoint\\checkpoint.py:914\u001b[0m, in \u001b[0;36mCheckpoint.run_with_runtime_args\u001b[1;34m(self, template_name, run_name_template, expectation_suite_name, batch_request, validator, action_list, evaluation_parameters, runtime_configuration, validations, profilers, run_id, run_name, run_time, result_format, expectation_suite_ge_cloud_id, **kwargs)\u001b[0m\n\u001b[0;32m    907\u001b[0m checkpoint_run_arguments: \u001b[38;5;28mdict\u001b[39m \u001b[38;5;241m=\u001b[39m \u001b[38;5;28mdict\u001b[39m(\u001b[38;5;241m*\u001b[39m\u001b[38;5;241m*\u001b[39mcheckpoint_config, \u001b[38;5;241m*\u001b[39m\u001b[38;5;241m*\u001b[39mkwargs)\n\u001b[0;32m    908\u001b[0m filter_properties_dict(\n\u001b[0;32m    909\u001b[0m     properties\u001b[38;5;241m=\u001b[39mcheckpoint_run_arguments,\n\u001b[0;32m    910\u001b[0m     clean_falsy\u001b[38;5;241m=\u001b[39m\u001b[38;5;28;01mTrue\u001b[39;00m,\n\u001b[0;32m    911\u001b[0m     inplace\u001b[38;5;241m=\u001b[39m\u001b[38;5;28;01mTrue\u001b[39;00m,\n\u001b[0;32m    912\u001b[0m )\n\u001b[1;32m--> 914\u001b[0m \u001b[38;5;28;01mreturn\u001b[39;00m \u001b[38;5;28mself\u001b[39m\u001b[38;5;241m.\u001b[39mrun(\u001b[38;5;241m*\u001b[39m\u001b[38;5;241m*\u001b[39mcheckpoint_run_arguments)\n",
      "File \u001b[1;32m~\\anaconda3\\envs\\ML1\\lib\\site-packages\\great_expectations\\checkpoint\\checkpoint.py:1263\u001b[0m, in \u001b[0;36mSimpleCheckpoint.run\u001b[1;34m(self, template_name, run_name_template, expectation_suite_name, batch_request, validator, action_list, evaluation_parameters, runtime_configuration, validations, profilers, run_id, run_name, run_time, result_format, site_names, slack_webhook, notify_on, notify_with, expectation_suite_ge_cloud_id)\u001b[0m\n\u001b[0;32m   1252\u001b[0m \u001b[38;5;28;01mif\u001b[39;00m \u001b[38;5;28many\u001b[39m((site_names, slack_webhook, notify_on, notify_with)):\n\u001b[0;32m   1253\u001b[0m     new_baseline_config \u001b[38;5;241m=\u001b[39m \u001b[38;5;28mself\u001b[39m\u001b[38;5;241m.\u001b[39m_configurator_class(\n\u001b[0;32m   1254\u001b[0m         name\u001b[38;5;241m=\u001b[39m\u001b[38;5;28mself\u001b[39m\u001b[38;5;241m.\u001b[39mname,\n\u001b[0;32m   1255\u001b[0m         data_context\u001b[38;5;241m=\u001b[39m\u001b[38;5;28mself\u001b[39m\u001b[38;5;241m.\u001b[39mdata_context,\n\u001b[1;32m   (...)\u001b[0m\n\u001b[0;32m   1260\u001b[0m         notify_with\u001b[38;5;241m=\u001b[39mnotify_with,\n\u001b[0;32m   1261\u001b[0m     )\u001b[38;5;241m.\u001b[39mbuild()\n\u001b[1;32m-> 1263\u001b[0m \u001b[38;5;28;01mreturn\u001b[39;00m \u001b[38;5;28;43msuper\u001b[39;49m\u001b[43m(\u001b[49m\u001b[43m)\u001b[49m\u001b[38;5;241;43m.\u001b[39;49m\u001b[43mrun\u001b[49m\u001b[43m(\u001b[49m\n\u001b[0;32m   1264\u001b[0m \u001b[43m    \u001b[49m\u001b[43mtemplate_name\u001b[49m\u001b[38;5;241;43m=\u001b[39;49m\u001b[43mtemplate_name\u001b[49m\u001b[43m,\u001b[49m\n\u001b[0;32m   1265\u001b[0m \u001b[43m    \u001b[49m\u001b[43mrun_name_template\u001b[49m\u001b[38;5;241;43m=\u001b[39;49m\u001b[43mrun_name_template\u001b[49m\u001b[43m,\u001b[49m\n\u001b[0;32m   1266\u001b[0m \u001b[43m    \u001b[49m\u001b[43mexpectation_suite_name\u001b[49m\u001b[38;5;241;43m=\u001b[39;49m\u001b[43mexpectation_suite_name\u001b[49m\u001b[43m,\u001b[49m\n\u001b[0;32m   1267\u001b[0m \u001b[43m    \u001b[49m\u001b[43mbatch_request\u001b[49m\u001b[38;5;241;43m=\u001b[39;49m\u001b[43mbatch_request\u001b[49m\u001b[43m,\u001b[49m\n\u001b[0;32m   1268\u001b[0m \u001b[43m    \u001b[49m\u001b[43mvalidator\u001b[49m\u001b[38;5;241;43m=\u001b[39;49m\u001b[43mvalidator\u001b[49m\u001b[43m,\u001b[49m\n\u001b[0;32m   1269\u001b[0m \u001b[43m    \u001b[49m\u001b[43maction_list\u001b[49m\u001b[38;5;241;43m=\u001b[39;49m\u001b[43mnew_baseline_config\u001b[49m\u001b[38;5;241;43m.\u001b[39;49m\u001b[43maction_list\u001b[49m\n\u001b[0;32m   1270\u001b[0m \u001b[43m    \u001b[49m\u001b[38;5;28;43;01mif\u001b[39;49;00m\u001b[43m \u001b[49m\u001b[43mnew_baseline_config\u001b[49m\n\u001b[0;32m   1271\u001b[0m \u001b[43m    \u001b[49m\u001b[38;5;28;43;01melse\u001b[39;49;00m\u001b[43m \u001b[49m\u001b[43maction_list\u001b[49m\u001b[43m,\u001b[49m\n\u001b[0;32m   1272\u001b[0m \u001b[43m    \u001b[49m\u001b[43mevaluation_parameters\u001b[49m\u001b[38;5;241;43m=\u001b[39;49m\u001b[43mevaluation_parameters\u001b[49m\u001b[43m,\u001b[49m\n\u001b[0;32m   1273\u001b[0m \u001b[43m    \u001b[49m\u001b[43mruntime_configuration\u001b[49m\u001b[38;5;241;43m=\u001b[39;49m\u001b[43mruntime_configuration\u001b[49m\u001b[43m,\u001b[49m\n\u001b[0;32m   1274\u001b[0m \u001b[43m    \u001b[49m\u001b[43mvalidations\u001b[49m\u001b[38;5;241;43m=\u001b[39;49m\u001b[43mvalidations\u001b[49m\u001b[43m,\u001b[49m\n\u001b[0;32m   1275\u001b[0m \u001b[43m    \u001b[49m\u001b[43mprofilers\u001b[49m\u001b[38;5;241;43m=\u001b[39;49m\u001b[43mprofilers\u001b[49m\u001b[43m,\u001b[49m\n\u001b[0;32m   1276\u001b[0m \u001b[43m    \u001b[49m\u001b[43mrun_id\u001b[49m\u001b[38;5;241;43m=\u001b[39;49m\u001b[43mrun_id\u001b[49m\u001b[43m,\u001b[49m\n\u001b[0;32m   1277\u001b[0m \u001b[43m    \u001b[49m\u001b[43mrun_name\u001b[49m\u001b[38;5;241;43m=\u001b[39;49m\u001b[43mrun_name\u001b[49m\u001b[43m,\u001b[49m\n\u001b[0;32m   1278\u001b[0m \u001b[43m    \u001b[49m\u001b[43mrun_time\u001b[49m\u001b[38;5;241;43m=\u001b[39;49m\u001b[43mrun_time\u001b[49m\u001b[43m,\u001b[49m\n\u001b[0;32m   1279\u001b[0m \u001b[43m    \u001b[49m\u001b[43mresult_format\u001b[49m\u001b[38;5;241;43m=\u001b[39;49m\u001b[43mresult_format\u001b[49m\u001b[43m,\u001b[49m\n\u001b[0;32m   1280\u001b[0m \u001b[43m    \u001b[49m\u001b[43mexpectation_suite_ge_cloud_id\u001b[49m\u001b[38;5;241;43m=\u001b[39;49m\u001b[43mexpectation_suite_ge_cloud_id\u001b[49m\u001b[43m,\u001b[49m\n\u001b[0;32m   1281\u001b[0m \u001b[43m\u001b[49m\u001b[43m)\u001b[49m\n",
      "File \u001b[1;32m~\\anaconda3\\envs\\ML1\\lib\\site-packages\\great_expectations\\core\\usage_statistics\\usage_statistics.py:266\u001b[0m, in \u001b[0;36musage_statistics_enabled_method.<locals>.usage_statistics_wrapped_method\u001b[1;34m(*args, **kwargs)\u001b[0m\n\u001b[0;32m    263\u001b[0m         args_payload \u001b[38;5;241m=\u001b[39m args_payload_fn(\u001b[38;5;241m*\u001b[39margs, \u001b[38;5;241m*\u001b[39m\u001b[38;5;241m*\u001b[39mkwargs) \u001b[38;5;129;01mor\u001b[39;00m {}\n\u001b[0;32m    264\u001b[0m         nested_update(event_payload, args_payload)\n\u001b[1;32m--> 266\u001b[0m     result \u001b[38;5;241m=\u001b[39m func(\u001b[38;5;241m*\u001b[39margs, \u001b[38;5;241m*\u001b[39m\u001b[38;5;241m*\u001b[39mkwargs)\n\u001b[0;32m    267\u001b[0m     message[\u001b[38;5;124m\"\u001b[39m\u001b[38;5;124msuccess\u001b[39m\u001b[38;5;124m\"\u001b[39m] \u001b[38;5;241m=\u001b[39m \u001b[38;5;28;01mTrue\u001b[39;00m\n\u001b[0;32m    268\u001b[0m \u001b[38;5;28;01mexcept\u001b[39;00m \u001b[38;5;167;01mException\u001b[39;00m:\n",
      "File \u001b[1;32m~\\anaconda3\\envs\\ML1\\lib\\site-packages\\great_expectations\\checkpoint\\checkpoint.py:305\u001b[0m, in \u001b[0;36mBaseCheckpoint.run\u001b[1;34m(self, template_name, run_name_template, expectation_suite_name, batch_request, validator, action_list, evaluation_parameters, runtime_configuration, validations, profilers, run_id, run_name, run_time, result_format, expectation_suite_ge_cloud_id)\u001b[0m\n\u001b[0;32m    303\u001b[0m \u001b[38;5;28;01mif\u001b[39;00m \u001b[38;5;28mlen\u001b[39m(validations) \u001b[38;5;241m>\u001b[39m \u001b[38;5;241m0\u001b[39m:\n\u001b[0;32m    304\u001b[0m     \u001b[38;5;28;01mfor\u001b[39;00m idx, validation_dict \u001b[38;5;129;01min\u001b[39;00m \u001b[38;5;28menumerate\u001b[39m(validations):\n\u001b[1;32m--> 305\u001b[0m         \u001b[38;5;28;43mself\u001b[39;49m\u001b[38;5;241;43m.\u001b[39;49m\u001b[43m_run_validation\u001b[49m\u001b[43m(\u001b[49m\n\u001b[0;32m    306\u001b[0m \u001b[43m            \u001b[49m\u001b[43msubstituted_runtime_config\u001b[49m\u001b[38;5;241;43m=\u001b[39;49m\u001b[43msubstituted_runtime_config\u001b[49m\u001b[43m,\u001b[49m\n\u001b[0;32m    307\u001b[0m \u001b[43m            \u001b[49m\u001b[43masync_validation_operator_results\u001b[49m\u001b[38;5;241;43m=\u001b[39;49m\u001b[43masync_validation_operator_results\u001b[49m\u001b[43m,\u001b[49m\n\u001b[0;32m    308\u001b[0m \u001b[43m            \u001b[49m\u001b[43masync_executor\u001b[49m\u001b[38;5;241;43m=\u001b[39;49m\u001b[43masync_executor\u001b[49m\u001b[43m,\u001b[49m\n\u001b[0;32m    309\u001b[0m \u001b[43m            \u001b[49m\u001b[43mresult_format\u001b[49m\u001b[38;5;241;43m=\u001b[39;49m\u001b[43mresult_format\u001b[49m\u001b[43m,\u001b[49m\n\u001b[0;32m    310\u001b[0m \u001b[43m            \u001b[49m\u001b[43mrun_id\u001b[49m\u001b[38;5;241;43m=\u001b[39;49m\u001b[43mrun_id\u001b[49m\u001b[43m,\u001b[49m\n\u001b[0;32m    311\u001b[0m \u001b[43m            \u001b[49m\u001b[43midx\u001b[49m\u001b[38;5;241;43m=\u001b[39;49m\u001b[43midx\u001b[49m\u001b[43m,\u001b[49m\n\u001b[0;32m    312\u001b[0m \u001b[43m            \u001b[49m\u001b[43mvalidation_dict\u001b[49m\u001b[38;5;241;43m=\u001b[39;49m\u001b[43mvalidation_dict\u001b[49m\u001b[43m,\u001b[49m\n\u001b[0;32m    313\u001b[0m \u001b[43m        \u001b[49m\u001b[43m)\u001b[49m\n\u001b[0;32m    314\u001b[0m \u001b[38;5;28;01melse\u001b[39;00m:\n\u001b[0;32m    315\u001b[0m     \u001b[38;5;28mself\u001b[39m\u001b[38;5;241m.\u001b[39m_run_validation(\n\u001b[0;32m    316\u001b[0m         substituted_runtime_config\u001b[38;5;241m=\u001b[39msubstituted_runtime_config,\n\u001b[0;32m    317\u001b[0m         async_validation_operator_results\u001b[38;5;241m=\u001b[39masync_validation_operator_results,\n\u001b[1;32m   (...)\u001b[0m\n\u001b[0;32m    320\u001b[0m         run_id\u001b[38;5;241m=\u001b[39mrun_id,\n\u001b[0;32m    321\u001b[0m     )\n",
      "File \u001b[1;32m~\\anaconda3\\envs\\ML1\\lib\\site-packages\\great_expectations\\checkpoint\\checkpoint.py:549\u001b[0m, in \u001b[0;36mBaseCheckpoint._run_validation\u001b[1;34m(self, substituted_runtime_config, async_validation_operator_results, async_executor, result_format, run_id, idx, validation_dict)\u001b[0m\n\u001b[0;32m    543\u001b[0m     async_validation_operator_results\u001b[38;5;241m.\u001b[39mappend(async_validation_operator_result)\n\u001b[0;32m    544\u001b[0m \u001b[38;5;28;01mexcept\u001b[39;00m (\n\u001b[0;32m    545\u001b[0m     gx_exceptions\u001b[38;5;241m.\u001b[39mCheckpointError,\n\u001b[0;32m    546\u001b[0m     gx_exceptions\u001b[38;5;241m.\u001b[39mExecutionEngineError,\n\u001b[0;32m    547\u001b[0m     gx_exceptions\u001b[38;5;241m.\u001b[39mMetricError,\n\u001b[0;32m    548\u001b[0m ) \u001b[38;5;28;01mas\u001b[39;00m e:\n\u001b[1;32m--> 549\u001b[0m     \u001b[38;5;28;01mraise\u001b[39;00m gx_exceptions\u001b[38;5;241m.\u001b[39mCheckpointError(\n\u001b[0;32m    550\u001b[0m         \u001b[38;5;124mf\u001b[39m\u001b[38;5;124m\"\u001b[39m\u001b[38;5;124mException occurred while running validation[\u001b[39m\u001b[38;5;132;01m{\u001b[39;00midx\u001b[38;5;132;01m}\u001b[39;00m\u001b[38;5;124m] of Checkpoint \u001b[39m\u001b[38;5;124m'\u001b[39m\u001b[38;5;132;01m{\u001b[39;00m\u001b[38;5;28mself\u001b[39m\u001b[38;5;241m.\u001b[39mname\u001b[38;5;132;01m}\u001b[39;00m\u001b[38;5;124m'\u001b[39m\u001b[38;5;124m: \u001b[39m\u001b[38;5;132;01m{\u001b[39;00me\u001b[38;5;241m.\u001b[39mmessage\u001b[38;5;132;01m}\u001b[39;00m\u001b[38;5;124m.\u001b[39m\u001b[38;5;124m\"\u001b[39m\n\u001b[0;32m    551\u001b[0m     ) \u001b[38;5;28;01mfrom\u001b[39;00m \u001b[38;5;21;01me\u001b[39;00m\n",
      "\u001b[1;31mCheckpointError\u001b[0m: Exception occurred while running validation[0] of Checkpoint 'train_data_checkpoint': Unable to determine reader method from path: \"c:\\users\\benja\\desktop\\strojno učenje\\strojnoucenje111-master\\strojnoucenje111-master\\gx\\..\\data\\processed\\.gitignore\".."
     ]
    }
   ],
   "source": [
    "context.run_checkpoint(checkpoint_name=my_checkpoint_name)\n",
    "context.open_data_docs()"
   ]
  },
  {
   "cell_type": "code",
   "execution_count": null,
   "id": "1c65dfe0-3b81-438b-8e4b-c754fa0b3161",
   "metadata": {},
   "outputs": [],
   "source": []
  }
 ],
 "metadata": {
  "kernelspec": {
   "display_name": "Python 3 (ipykernel)",
   "language": "python",
   "name": "python3"
  },
  "language_info": {
   "codemirror_mode": {
    "name": "ipython",
    "version": 3
   },
   "file_extension": ".py",
   "mimetype": "text/x-python",
   "name": "python",
   "nbconvert_exporter": "python",
   "pygments_lexer": "ipython3",
   "version": "3.9.18"
  }
 },
 "nbformat": 4,
 "nbformat_minor": 5
}
